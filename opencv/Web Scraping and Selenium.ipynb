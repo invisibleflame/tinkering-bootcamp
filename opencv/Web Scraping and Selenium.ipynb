{
 "cells": [
  {
   "cell_type": "markdown",
   "metadata": {},
   "source": [
    "## Web Scraping\n",
    "Web scraping, web harvesting, or web data extraction is data scraping used for extracting data from websites.\n",
    "When you are working as a professional software engineer many a times you will need to work through ssh i.e no GUI therefore you will have to extract and send data to webpages using command shell."
   ]
  },
  {
   "cell_type": "code",
   "execution_count": 1,
   "metadata": {},
   "outputs": [],
   "source": [
    "import bs4 as bs\n",
    "import urllib.request\n",
    "\n",
    "source = urllib.request.urlopen('https://pythonprogramming.net/parsememcparseface/').read() \n",
    "#This is  a simple website for bs implementation"
   ]
  },
  {
   "cell_type": "code",
   "execution_count": 2,
   "metadata": {},
   "outputs": [],
   "source": [
    "soup = bs.BeautifulSoup(source,'lxml') #htmlparser"
   ]
  },
  {
   "cell_type": "code",
   "execution_count": 3,
   "metadata": {},
   "outputs": [
    {
     "name": "stdout",
     "output_type": "stream",
     "text": [
      "<html>\n",
      "<head>\n",
      "<!--\n",
      "\t\tpalette:\n",
      "\t\tdark blue: #003F72\n",
      "\t\tyellow: #FFD166\n",
      "\t\tsalmon: #EF476F\n",
      "\t\toffwhite: #e7d7d7\n",
      "\t\tLight Blue: #118AB2\n",
      "\t\tLight green: #7DDF64\n",
      "\t\t-->\n",
      "<meta content=\"width=device-width, initial-scale=1.0\" name=\"viewport\"/>\n",
      "<title>Python Programming Tutorials</title>\n",
      "<meta content=\"Python Programming tutorials from beginner to advanced on a massive variety of topics. All video and text tutorials are free.\" name=\"description\"/>\n",
      "<link href=\"/static/favicon.ico\" rel=\"shortcut icon\"/>\n",
      "<link href=\"/static/css/materialize.min.css\" rel=\"stylesheet\"/>\n",
      "<link href=\"https://fonts.googleapis.com/icon?family=Material+Icons\" rel=\"stylesheet\"/>\n",
      "<meta content=\"3fLok05gk5gGtWd_VSXbSSSH27F2kr1QqcxYz9vYq2k\" name=\"google-site-verification\"/>\n",
      "<link href=\"/static/css/bootstrap.css\" rel=\"stylesheet\" type=\"text/css\"/>\n",
      "<!-- Compiled and minified CSS -->\n",
      "<!-- Compiled and minified JavaScript -->\n",
      "<script src=\"https://code.jquery.com/jquery-2.1.4.min.js\"></script>\n",
      "<script src=\"https://cdnjs.cloudflare.com/ajax/libs/materialize/0.97.3/js/materialize.min.js\"></script>\n",
      "<style>\n",
      "\t\t@media (min-width:992px) {\n",
      "\t\t#aside {\n",
      "\t\t\twidth:250px;\n",
      "\t\t}\n",
      "\t\tpre { tab-size: 4;}\n",
      "\t\t.btn {background-color:#FFD166;\n",
      "\t\t\t  color:#000;\n",
      "\t\t      height:auto;\n",
      "\t\t\t  font-color:#000;\n",
      "\t\t\t  }\n",
      "\t\t.btn:hover {background-color:#FFD166;\n",
      "\t\t\t\t\t}\n",
      "\n",
      "\n",
      "\t\t</style>\n",
      "<!-- Google Tracking -->\n",
      "<script>\n",
      "\t\t\t  (function(i,s,o,g,r,a,m){i['GoogleAnalyticsObject']=r;i[r]=i[r]||function(){\n",
      "\t\t\t  (i[r].q=i[r].q||[]).push(arguments)},i[r].l=1*new Date();a=s.createElement(o),\n",
      "\t\t\t  m=s.getElementsByTagName(o)[0];a.async=1;a.src=g;m.parentNode.insertBefore(a,m)\n",
      "\t\t\t  })(window,document,'script','//www.google-analytics.com/analytics.js','ga');\n",
      "              ga('config', 'UA-51891827-1', {'anonymize_ip': true});﻿\n",
      "\t\t\t  ga('create', 'UA-51891827-1', 'auto');\n",
      "\t\t\t  ga('send', 'pageview');\n",
      "\n",
      "\t\t</script>\n",
      "<script async=\"\" src=\"//pagead2.googlesyndication.com/pagead/js/adsbygoogle.js\"></script>\n",
      "<script>\n",
      "                         (adsbygoogle = window.adsbygoogle || []).push({\n",
      "                              google_ad_client: \"ca-pub-1579050400541873\",\n",
      "                              enable_page_level_ads: true\n",
      "                         });\n",
      "                    </script>\n",
      "</head>\n",
      "<body>\n",
      "<div class=\"navbar-fixed\">\n",
      "<nav style=\"background-color:#003F72\">\n",
      "<div class=\"nav-wrapper container\">\n",
      "<a class=\"brand-logo\" href=\"/\"><img class=\"img-responsive\" src=\"/static/images/mainlogowhitethick.jpg\" style=\"width:50px; height;50px; margin-top:5px\"/></a>\n",
      "<a class=\"button-collapse\" data-activates=\"navsidebar\" href=\"#\"><i class=\"mdi-navigation-menu\"></i></a>\n",
      "<ul class=\"right hide-on-med-and-down\">\n",
      "<li><i class=\"material-icons\">search</i></li>\n",
      "<li>\n",
      "<form action=\"/search/?l=hi\" id=\"searchform\" method=\"get\" style=\"height:50px; padding-top:10px\">\n",
      "<input id=\"search\" name=\"q\" placeholder=\"search\" style=\"font-size:16px\" type=\"search\"/>\n",
      "</form>\n",
      "</li>\n",
      "<li><a href=\"/\">Home</a></li>\n",
      "<li><a class=\"tooltipped\" data-delay=\"50\" data-position=\"bottom\" data-tooltip=\"sudo apt-get upgrade\" href=\"/+=1/\">+=1</a></li>\n",
      "<!--<li><a href=\"/store/python-hoodie/\">Store</a></li>-->\n",
      "<li><a href=\"/support/\">Support the Content</a></li>\n",
      "<li><a href=\"https://goo.gl/7zgAVQ\" target=\"blank\"><!--<i class=\"material-icons\">question_answer</i>-->Community</a></li>\n",
      "<li><a href=\"/login/\">Log in</a></li>\n",
      "<li><a href=\"/register/\">Sign up</a></li>\n",
      "</ul>\n",
      "<ul class=\"side-nav\" id=\"navsidebar\">\n",
      "<li>\n",
      "<form action=\"/search/?l=hi\" id=\"searchform\" method=\"get\" style=\"height:50px; padding-top:10px\">\n",
      "<input id=\"search\" name=\"q\" placeholder=\"search\" style=\"font-size:16px\" type=\"search\"/>\n",
      "</form>\n",
      "</li>\n",
      "<li><a href=\"/\">Home</a></li>\n",
      "<li><a class=\"tooltipped\" data-delay=\"50\" data-position=\"bottom\" data-tooltip=\"sudo apt-get upgrade\" href=\"/+=1/\">+=1</a></li>\n",
      "<!--<li><a href=\"/store/python-hoodie/\">Store</a></li>-->\n",
      "<li><a href=\"/support/\">Support the Content</a></li>\n",
      "<li><a href=\"https://goo.gl/7zgAVQ\" target=\"blank\"><!--<i class=\"material-icons\">question_answer</i>-->Community</a></li>\n",
      "<li><a href=\"/login/\">Log in</a></li>\n",
      "<li><a href=\"/register/\">Sign up</a></li>\n",
      "</ul>\n",
      "</div>\n",
      "</nav>\n",
      "</div>\n",
      "<!-- main content -->\n",
      "<div class=\"container\" style=\"max-width:1500px; min-height:100%\">\n",
      "<!--Notification:-->\n",
      "<!--<p style=\"font-size:80%\">TensorFlow.js Livestream:  <a href=\"https://www.youtube.com/watch?v=NjSlj95lliM\" target=\"blank\"><strong>Deep Learning in the browser</strong></a></p>-->\n",
      "<!--End Notification:-->\n",
      "<div class=\"body\">\n",
      "<p class=\"introduction\">Oh, hello! This is a <span style=\"font-size:115%\">wonderful</span> page meant to let you practice web scraping. This page was originally created to help people work with the <a href=\"https://www.crummy.com/software/BeautifulSoup/bs4/doc/\" target=\"blank\"><strong>Beautiful Soup 4</strong></a> library.</p>\n",
      "<p>The following table gives some general information for the following <code>programming languages</code>:</p>\n",
      "<ul>\n",
      "<li>Python</li>\n",
      "<li>Pascal</li>\n",
      "<li>Lisp</li>\n",
      "<li>D#</li>\n",
      "<li>Cobol</li>\n",
      "<li>Fortran</li>\n",
      "<li>Haskell</li>\n",
      "</ul>\n",
      "<table style=\"width:100%\">\n",
      "<tr>\n",
      "<th>Program Name</th>\n",
      "<th>Internet Points</th>\n",
      "<th>Kittens?</th>\n",
      "</tr>\n",
      "<tr>\n",
      "<td>Python</td>\n",
      "<td>932914021</td>\n",
      "<td>Definitely</td>\n",
      "</tr>\n",
      "<tr>\n",
      "<td>Pascal</td>\n",
      "<td>532</td>\n",
      "<td>Unlikely</td>\n",
      "</tr>\n",
      "<tr>\n",
      "<td>Lisp</td>\n",
      "<td>1522</td>\n",
      "<td>Uncertain</td>\n",
      "</tr>\n",
      "<tr>\n",
      "<td>D#</td>\n",
      "<td>12</td>\n",
      "<td>Possibly</td>\n",
      "</tr>\n",
      "<tr>\n",
      "<td>Cobol</td>\n",
      "<td>3</td>\n",
      "<td>No.</td>\n",
      "</tr>\n",
      "<tr>\n",
      "<td>Fortran</td>\n",
      "<td>52124</td>\n",
      "<td>Yes.</td>\n",
      "</tr>\n",
      "<tr>\n",
      "<td>Haskell</td>\n",
      "<td>24</td>\n",
      "<td>lol.</td>\n",
      "</tr>\n",
      "</table>\n",
      "<p>I think it's clear that, on a scale of 1-10, python is:</p>\n",
      "<div class=\"card hoverable\">\n",
      "<div class=\"card-content\">\n",
      "<div class=\"card-title\"></div>\n",
      "<img alt=\"omg batman\" class=\"responsive-img\" src=\"https://s-media-cache-ak0.pinimg.com/originals/e8/2a/ff/e82aff2876b080675449d0cef7685321.jpg\"/>\n",
      "</div>\n",
      "</div>\n",
      "<p>Javascript (dynamic data) test:</p>\n",
      "<p class=\"jstest\" id=\"yesnojs\">y u bad tho?</p>\n",
      "<script>\n",
      "     document.getElementById('yesnojs').innerHTML = 'Look at you shinin!';\n",
      "  </script>\n",
      "<br/><br/>\n",
      "<pre>Beautiful is better than ugly.\n",
      "Explicit is better than implicit.\n",
      "Simple is better than complex.\n",
      "Complex is better than complicated.\n",
      "Flat is better than nested.\n",
      "Sparse is better than dense.\n",
      "Readability counts.\n",
      "Special cases aren't special enough to break the rules.\n",
      "Although practicality beats purity.\n",
      "Errors should never pass silently.\n",
      "Unless explicitly silenced.\n",
      "In the face of ambiguity, refuse the temptation to guess.\n",
      "There should be one-- and preferably only one --obvious way to do it.\n",
      "Although that way may not be obvious at first unless you're Dutch.\n",
      "Now is better than never.\n",
      "Although never is often better than *right* now.\n",
      "If the implementation is hard to explain, it's a bad idea.\n",
      "If the implementation is easy to explain, it may be a good idea.\n",
      "Namespaces are one honking great idea -- let's do more of those!</pre>\n",
      "<p>Whᶐt hαppéns now¿</p>\n",
      "<p><a href=\"/sitemap.xml\" target=\"blank\"><strong>sitemap</strong></a></p>\n",
      "</div></div></body>\n",
      "<!--login modal-->\n",
      "<!--Register modal-->\n",
      "<script>\n",
      "\t\t\t$(document).ready(function(){\n",
      "\t\t\t\t$(\".button-collapse\").sideNav();\n",
      "\t\t\t\t$('.modal-trigger').leanModal();\n",
      "\t\t\t\t$('.collapsible').collapsible({\n",
      "\t\t\t\t  accordion : false // A setting that changes the collapsible behavior to expandable instead of the default accordion style\n",
      "\t\t\t\t});\n",
      "\t\t\t\t$('#aside').pushpin({ top:110, bottom:500 });\n",
      "\t\t  });\n",
      "\t\t</script>\n",
      "<script>\n",
      "\t\t  $(document).ready(function(){\n",
      "\t\t\t$('.collapsible').collapsible({\n",
      "\t\t\t  accordion : false // A setting that changes the collapsible behavior to expandable instead of the default accordion style\n",
      "\t\t\t});\n",
      "\t\t\t$('select').material_select();\n",
      "\t\t  });\n",
      "\t  </script>\n",
      "<script>\n",
      "\t\tfunction goBack() {\n",
      "\t\t\twindow.history.back()\n",
      "\t\t}\n",
      "\t</script>\n",
      "<script src=\"/static/js/run_prettify.js\" type=\"text/javascript\"></script>\n",
      "<footer class=\"page-footer\">\n",
      "<div class=\"container\">\n",
      "<div class=\"row\">\n",
      "<div class=\"col l6 s12\">\n",
      "<h5 class=\"white-text\">You've reached the end!</h5>\n",
      "<p class=\"grey-text text-lighten-4\">Contact: Harrison@pythonprogramming.net.</p>\n",
      "<ul>\n",
      "<li><a class=\"grey-text text-lighten-3\" href=\"/support-donate/\">Support this Website!</a></li>\n",
      "<li><a class=\"grey-text text-lighten-3\" href=\"/consulting/\">Consulting and Contracting</a></li>\n",
      "<li><a class=\"grey-text text-lighten-3\" href=\"https://www.facebook.com/pythonprogramming.net/\">Facebook</a></li>\n",
      "<li><a class=\"grey-text text-lighten-3\" href=\"https://twitter.com/sentdex\">Twitter</a></li>\n",
      "<li><a class=\"grey-text text-lighten-3\" href=\"https://instagram.com/sentdex\">Instagram</a></li>\n",
      "</ul>\n",
      "</div>\n",
      "<div class=\"col l4 offset-l2 s12\">\n",
      "<h6 class=\"white-text\">Legal stuff:</h6>\n",
      "<ul>\n",
      "<li><a class=\"grey-text text-lighten-3\" href=\"/about/tos/\">Terms and Conditions</a></li>\n",
      "<li><a class=\"grey-text text-lighten-3\" href=\"/about/privacy-policy/\">Privacy Policy</a></li>\n",
      "</ul>\n",
      "</div>\n",
      "</div>\n",
      "</div>\n",
      "<a href=\"https://xkcd.com/353/\" target=\"blank\"><p class=\"grey-text right\" style=\"padding-right:10px\">Programming is a superpower.</p></a>\n",
      "<div class=\"footer-copyright\">\n",
      "<div class=\"container\">\n",
      "            © OVER 9000! PythonProgramming.net\n",
      "\n",
      "            </div>\n",
      "</div>\n",
      "</footer>\n",
      "</html>\n",
      "\n"
     ]
    }
   ],
   "source": [
    "print(soup)"
   ]
  },
  {
   "cell_type": "code",
   "execution_count": 4,
   "metadata": {},
   "outputs": [
    {
     "name": "stdout",
     "output_type": "stream",
     "text": [
      "<title>Python Programming Tutorials</title>\n"
     ]
    }
   ],
   "source": [
    "print(soup.title)"
   ]
  },
  {
   "cell_type": "code",
   "execution_count": 5,
   "metadata": {},
   "outputs": [
    {
     "name": "stdout",
     "output_type": "stream",
     "text": [
      "Python Programming Tutorials\n"
     ]
    }
   ],
   "source": [
    "print(soup.title.text)"
   ]
  },
  {
   "cell_type": "code",
   "execution_count": 6,
   "metadata": {},
   "outputs": [
    {
     "name": "stdout",
     "output_type": "stream",
     "text": [
      "Python Programming Tutorials\n"
     ]
    }
   ],
   "source": [
    " print(soup.title.string) \"python\"\n",
    "    \n"
   ]
  },
  {
   "cell_type": "markdown",
   "metadata": {},
   "source": [
    "So you can see that both of these essentially have the same output but in reality .string only works when there are no child tags but .text works in any case. Also string returns a navigable string object but .text returns just a unicode text"
   ]
  },
  {
   "cell_type": "code",
   "execution_count": 7,
   "metadata": {},
   "outputs": [
    {
     "name": "stdout",
     "output_type": "stream",
     "text": [
      "title\n"
     ]
    }
   ],
   "source": [
    "print(soup.title.name)"
   ]
  },
  {
   "cell_type": "code",
   "execution_count": 8,
   "metadata": {},
   "outputs": [
    {
     "name": "stdout",
     "output_type": "stream",
     "text": [
      "head\n"
     ]
    }
   ],
   "source": [
    "print(soup.title.parent.name)"
   ]
  },
  {
   "cell_type": "code",
   "execution_count": 9,
   "metadata": {},
   "outputs": [
    {
     "name": "stdout",
     "output_type": "stream",
     "text": [
      "<p class=\"introduction\">Oh, hello! This is a <span style=\"font-size:115%\">wonderful</span> page meant to let you practice web scraping. This page was originally created to help people work with the <a href=\"https://www.crummy.com/software/BeautifulSoup/bs4/doc/\" target=\"blank\"><strong>Beautiful Soup 4</strong></a> library.</p>\n"
     ]
    }
   ],
   "source": [
    "print(soup.p) #returns the first paragraph tag it can find"
   ]
  },
  {
   "cell_type": "code",
   "execution_count": 10,
   "metadata": {
    "scrolled": true
   },
   "outputs": [
    {
     "name": "stdout",
     "output_type": "stream",
     "text": [
      "['introduction']\n"
     ]
    }
   ],
   "source": [
    "print(soup.p.get('class')) #you can get any attribute this way"
   ]
  },
  {
   "cell_type": "code",
   "execution_count": 11,
   "metadata": {},
   "outputs": [
    {
     "name": "stdout",
     "output_type": "stream",
     "text": [
      "['introduction']\n"
     ]
    }
   ],
   "source": [
    "print(soup.p['class'])"
   ]
  },
  {
   "cell_type": "code",
   "execution_count": 12,
   "metadata": {},
   "outputs": [
    {
     "name": "stdout",
     "output_type": "stream",
     "text": [
      "{'class': ['introduction']}\n"
     ]
    }
   ],
   "source": [
    "print(soup.p.attrs) #attributes"
   ]
  },
  {
   "cell_type": "code",
   "execution_count": 13,
   "metadata": {},
   "outputs": [
    {
     "name": "stdout",
     "output_type": "stream",
     "text": [
      "<div class=\"card hoverable\">\n",
      "<div class=\"card-content\">\n",
      "<div class=\"card-title\"></div>\n",
      "<img alt=\"omg batman\" class=\"responsive-img\" src=\"https://s-media-cache-ak0.pinimg.com/originals/e8/2a/ff/e82aff2876b080675449d0cef7685321.jpg\"/>\n",
      "</div>\n",
      "</div>\n"
     ]
    }
   ],
   "source": [
    "print(soup.find(class_=\"card hoverable\"))"
   ]
  },
  {
   "cell_type": "code",
   "execution_count": 14,
   "metadata": {},
   "outputs": [
    {
     "name": "stdout",
     "output_type": "stream",
     "text": [
      "['\\n', <div class=\"card-content\">\n",
      "<div class=\"card-title\"></div>\n",
      "<img alt=\"omg batman\" class=\"responsive-img\" src=\"https://s-media-cache-ak0.pinimg.com/originals/e8/2a/ff/e82aff2876b080675449d0cef7685321.jpg\"/>\n",
      "</div>, '\\n']\n"
     ]
    }
   ],
   "source": [
    "print(soup.find(class_=\"card hoverable\").contents)"
   ]
  },
  {
   "cell_type": "code",
   "execution_count": 15,
   "metadata": {},
   "outputs": [
    {
     "name": "stdout",
     "output_type": "stream",
     "text": [
      "[<p class=\"introduction\">Oh, hello! This is a <span style=\"font-size:115%\">wonderful</span> page meant to let you practice web scraping. This page was originally created to help people work with the <a href=\"https://www.crummy.com/software/BeautifulSoup/bs4/doc/\" target=\"blank\"><strong>Beautiful Soup 4</strong></a> library.</p>, <p>The following table gives some general information for the following <code>programming languages</code>:</p>, <p>I think it's clear that, on a scale of 1-10, python is:</p>, <p>Javascript (dynamic data) test:</p>, <p class=\"jstest\" id=\"yesnojs\">y u bad tho?</p>, <p>Whᶐt hαppéns now¿</p>, <p><a href=\"/sitemap.xml\" target=\"blank\"><strong>sitemap</strong></a></p>, <p class=\"grey-text text-lighten-4\">Contact: Harrison@pythonprogramming.net.</p>, <p class=\"grey-text right\" style=\"padding-right:10px\">Programming is a superpower.</p>]\n"
     ]
    }
   ],
   "source": [
    "print(soup.find_all('p'))"
   ]
  },
  {
   "cell_type": "code",
   "execution_count": 16,
   "metadata": {},
   "outputs": [
    {
     "name": "stdout",
     "output_type": "stream",
     "text": [
      "[<p class=\"introduction\">Oh, hello! This is a <span style=\"font-size:115%\">wonderful</span> page meant to let you practice web scraping. This page was originally created to help people work with the <a href=\"https://www.crummy.com/software/BeautifulSoup/bs4/doc/\" target=\"blank\"><strong>Beautiful Soup 4</strong></a> library.</p>, <p>The following table gives some general information for the following <code>programming languages</code>:</p>, <p>I think it's clear that, on a scale of 1-10, python is:</p>, <p>Javascript (dynamic data) test:</p>, <p class=\"jstest\" id=\"yesnojs\">y u bad tho?</p>, <p>Whᶐt hαppéns now¿</p>, <p><a href=\"/sitemap.xml\" target=\"blank\"><strong>sitemap</strong></a></p>, <p class=\"grey-text text-lighten-4\">Contact: Harrison@pythonprogramming.net.</p>, <p class=\"grey-text right\" style=\"padding-right:10px\">Programming is a superpower.</p>]\n"
     ]
    }
   ],
   "source": [
    "print(soup('p')) # there are many alternatives of doing the same thing"
   ]
  },
  {
   "cell_type": "code",
   "execution_count": 17,
   "metadata": {},
   "outputs": [
    {
     "name": "stdout",
     "output_type": "stream",
     "text": [
      "None\n",
      "Oh, hello! This is a wonderful page meant to let you practice web scraping. This page was originally created to help people work with the Beautiful Soup 4 library.\n",
      "None\n",
      "The following table gives some general information for the following programming languages:\n",
      "I think it's clear that, on a scale of 1-10, python is:\n",
      "I think it's clear that, on a scale of 1-10, python is:\n",
      "Javascript (dynamic data) test:\n",
      "Javascript (dynamic data) test:\n",
      "y u bad tho?\n",
      "y u bad tho?\n",
      "Whᶐt hαppéns now¿\n",
      "Whᶐt hαppéns now¿\n",
      "sitemap\n",
      "sitemap\n",
      "Contact: Harrison@pythonprogramming.net.\n",
      "Contact: Harrison@pythonprogramming.net.\n",
      "Programming is a superpower.\n",
      "Programming is a superpower.\n"
     ]
    }
   ],
   "source": [
    "for paragraph in soup.find_all('p'): #these tags are iterable\n",
    "    print(paragraph.string)\n",
    "    print(paragraph.text)"
   ]
  },
  {
   "cell_type": "code",
   "execution_count": 18,
   "metadata": {},
   "outputs": [
    {
     "name": "stdout",
     "output_type": "stream",
     "text": [
      "\n",
      "\n",
      "\n",
      "\n",
      "Python Programming Tutorials\n",
      "\n",
      "\n",
      "\n",
      "\n",
      "\n",
      "\n",
      "\n",
      "\n",
      "\n",
      "\n",
      "\n",
      "\n",
      "\n",
      "\n",
      "\n",
      "\n",
      "\n",
      "\n",
      "\n",
      "\n",
      "\n",
      "\n",
      "\n",
      "search\n",
      "\n",
      "\n",
      "\n",
      "\n",
      "\n",
      "Home\n",
      "+=1\n",
      "\n",
      "Support the Content\n",
      "Community\n",
      "Log in\n",
      "Sign up\n",
      "\n",
      "\n",
      "\n",
      "\n",
      "\n",
      "\n",
      "\n",
      "Home\n",
      "+=1\n",
      "\n",
      "Support the Content\n",
      "Community\n",
      "Log in\n",
      "Sign up\n",
      "\n",
      "\n",
      "\n",
      "\n",
      "\n",
      "\n",
      "\n",
      "\n",
      "\n",
      "\n",
      "Oh, hello! This is a wonderful page meant to let you practice web scraping. This page was originally created to help people work with the Beautiful Soup 4 library.\n",
      "The following table gives some general information for the following programming languages:\n",
      "\n",
      "Python\n",
      "Pascal\n",
      "Lisp\n",
      "D#\n",
      "Cobol\n",
      "Fortran\n",
      "Haskell\n",
      "\n",
      "\n",
      "\n",
      "Program Name\n",
      "Internet Points\n",
      "Kittens?\n",
      "\n",
      "\n",
      "Python\n",
      "932914021\n",
      "Definitely\n",
      "\n",
      "\n",
      "Pascal\n",
      "532\n",
      "Unlikely\n",
      "\n",
      "\n",
      "Lisp\n",
      "1522\n",
      "Uncertain\n",
      "\n",
      "\n",
      "D#\n",
      "12\n",
      "Possibly\n",
      "\n",
      "\n",
      "Cobol\n",
      "3\n",
      "No.\n",
      "\n",
      "\n",
      "Fortran\n",
      "52124\n",
      "Yes.\n",
      "\n",
      "\n",
      "Haskell\n",
      "24\n",
      "lol.\n",
      "\n",
      "\n",
      "I think it's clear that, on a scale of 1-10, python is:\n",
      "\n",
      "\n",
      "\n",
      "\n",
      "\n",
      "\n",
      "Javascript (dynamic data) test:\n",
      "y u bad tho?\n",
      "\n",
      "\n",
      "Beautiful is better than ugly.\n",
      "Explicit is better than implicit.\n",
      "Simple is better than complex.\n",
      "Complex is better than complicated.\n",
      "Flat is better than nested.\n",
      "Sparse is better than dense.\n",
      "Readability counts.\n",
      "Special cases aren't special enough to break the rules.\n",
      "Although practicality beats purity.\n",
      "Errors should never pass silently.\n",
      "Unless explicitly silenced.\n",
      "In the face of ambiguity, refuse the temptation to guess.\n",
      "There should be one-- and preferably only one --obvious way to do it.\n",
      "Although that way may not be obvious at first unless you're Dutch.\n",
      "Now is better than never.\n",
      "Although never is often better than *right* now.\n",
      "If the implementation is hard to explain, it's a bad idea.\n",
      "If the implementation is easy to explain, it may be a good idea.\n",
      "Namespaces are one honking great idea -- let's do more of those!\n",
      "Whᶐt hαppéns now¿\n",
      "sitemap\n",
      "\n",
      "\n",
      "\n",
      "\n",
      "\n",
      "\n",
      "\n",
      "\n",
      "\n",
      "\n",
      "\n",
      "You've reached the end!\n",
      "Contact: Harrison@pythonprogramming.net.\n",
      "\n",
      "Support this Website!\n",
      "Consulting and Contracting\n",
      "Facebook\n",
      "Twitter\n",
      "Instagram\n",
      "\n",
      "\n",
      "\n",
      "Legal stuff:\n",
      "\n",
      "Terms and Conditions\n",
      "Privacy Policy\n",
      "\n",
      "\n",
      "\n",
      "\n",
      "Programming is a superpower.\n",
      "\n",
      "\n",
      "            © OVER 9000! PythonProgramming.net\n",
      "\n",
      "            \n",
      "\n",
      "\n",
      "\n",
      "\n"
     ]
    }
   ],
   "source": [
    "print(soup.get_text()) #or you can use soup.text"
   ]
  },
  {
   "cell_type": "code",
   "execution_count": 21,
   "metadata": {},
   "outputs": [
    {
     "data": {
      "text/plain": [
       "\"Python Programming Tutorials|search|Home|+=1|Support the Content|Community|Log in|Sign up|Home|+=1|Support the Content|Community|Log in|Sign up|Oh, hello! This is a|wonderful|page meant to let you practice web scraping. This page was originally created to help people work with the|Beautiful Soup 4|library.|The following table gives some general information for the following|programming languages|:|Python|Pascal|Lisp|D#|Cobol|Fortran|Haskell|Program Name|Internet Points|Kittens?|Python|932914021|Definitely|Pascal|532|Unlikely|Lisp|1522|Uncertain|D#|12|Possibly|Cobol|3|No.|Fortran|52124|Yes.|Haskell|24|lol.|I think it's clear that, on a scale of 1-10, python is:|Javascript (dynamic data) test:|y u bad tho?|Beautiful is better than ugly.\\nExplicit is better than implicit.\\nSimple is better than complex.\\nComplex is better than complicated.\\nFlat is better than nested.\\nSparse is better than dense.\\nReadability counts.\\nSpecial cases aren't special enough to break the rules.\\nAlthough practicality beats purity.\\nErrors should never pass silently.\\nUnless explicitly silenced.\\nIn the face of ambiguity, refuse the temptation to guess.\\nThere should be one-- and preferably only one --obvious way to do it.\\nAlthough that way may not be obvious at first unless you're Dutch.\\nNow is better than never.\\nAlthough never is often better than *right* now.\\nIf the implementation is hard to explain, it's a bad idea.\\nIf the implementation is easy to explain, it may be a good idea.\\nNamespaces are one honking great idea -- let's do more of those!|Whᶐt hαppéns now¿|sitemap|You've reached the end!|Contact: Harrison@pythonprogramming.net.|Support this Website!|Consulting and Contracting|Facebook|Twitter|Instagram|Legal stuff:|Terms and Conditions|Privacy Policy|Programming is a superpower.|© OVER 9000! PythonProgramming.net\""
      ]
     },
     "execution_count": 21,
     "metadata": {},
     "output_type": "execute_result"
    }
   ],
   "source": [
    "soup.get_text(\"|\", strip=True) #strip=True strips the white spaces in the beginning and ending of each line so you will \n",
    "#not see any \\n tags and \"|\" is used as a joining string just like in .join in python, when you iterate in the non-strip \n",
    "#text you will get \\n at beginning and ending so you can use this to avoid them,"
   ]
  },
  {
   "cell_type": "code",
   "execution_count": 22,
   "metadata": {},
   "outputs": [
    {
     "name": "stdout",
     "output_type": "stream",
     "text": [
      "/\n",
      "#\n",
      "/\n",
      "/+=1/\n",
      "/support/\n",
      "https://goo.gl/7zgAVQ\n",
      "/login/\n",
      "/register/\n",
      "/\n",
      "/+=1/\n",
      "/support/\n",
      "https://goo.gl/7zgAVQ\n",
      "/login/\n",
      "/register/\n",
      "https://www.crummy.com/software/BeautifulSoup/bs4/doc/\n",
      "/sitemap.xml\n",
      "/support-donate/\n",
      "/consulting/\n",
      "https://www.facebook.com/pythonprogramming.net/\n",
      "https://twitter.com/sentdex\n",
      "https://instagram.com/sentdex\n",
      "/about/tos/\n",
      "/about/privacy-policy/\n",
      "https://xkcd.com/353/\n"
     ]
    }
   ],
   "source": [
    "for url in soup.find_all('a'):\n",
    "    print(url.get('href'))"
   ]
  },
  {
   "cell_type": "code",
   "execution_count": 23,
   "metadata": {},
   "outputs": [
    {
     "name": "stdout",
     "output_type": "stream",
     "text": [
      "\n",
      "\n",
      "Home\n",
      "+=1\n",
      "Support the Content\n",
      "Community\n",
      "Log in\n",
      "Sign up\n",
      "Home\n",
      "+=1\n",
      "Support the Content\n",
      "Community\n",
      "Log in\n",
      "Sign up\n",
      "Beautiful Soup 4\n",
      "sitemap\n",
      "Support this Website!\n",
      "Consulting and Contracting\n",
      "Facebook\n",
      "Twitter\n",
      "Instagram\n",
      "Terms and Conditions\n",
      "Privacy Policy\n",
      "Programming is a superpower.\n"
     ]
    }
   ],
   "source": [
    "for url in soup.find_all('a'):\n",
    "    print(url.text)\n",
    "#this can be used to find a particular link"
   ]
  },
  {
   "cell_type": "code",
   "execution_count": 24,
   "metadata": {},
   "outputs": [
    {
     "name": "stdout",
     "output_type": "stream",
     "text": [
      "<nav style=\"background-color:#003F72\">\n",
      "<div class=\"nav-wrapper container\">\n",
      "<a class=\"brand-logo\" href=\"/\"><img class=\"img-responsive\" src=\"/static/images/mainlogowhitethick.jpg\" style=\"width:50px; height;50px; margin-top:5px\"/></a>\n",
      "<a class=\"button-collapse\" data-activates=\"navsidebar\" href=\"#\"><i class=\"mdi-navigation-menu\"></i></a>\n",
      "<ul class=\"right hide-on-med-and-down\">\n",
      "<li><i class=\"material-icons\">search</i></li>\n",
      "<li>\n",
      "<form action=\"/search/?l=hi\" id=\"searchform\" method=\"get\" style=\"height:50px; padding-top:10px\">\n",
      "<input id=\"search\" name=\"q\" placeholder=\"search\" style=\"font-size:16px\" type=\"search\"/>\n",
      "</form>\n",
      "</li>\n",
      "<li><a href=\"/\">Home</a></li>\n",
      "<li><a class=\"tooltipped\" data-delay=\"50\" data-position=\"bottom\" data-tooltip=\"sudo apt-get upgrade\" href=\"/+=1/\">+=1</a></li>\n",
      "<!--<li><a href=\"/store/python-hoodie/\">Store</a></li>-->\n",
      "<li><a href=\"/support/\">Support the Content</a></li>\n",
      "<li><a href=\"https://goo.gl/7zgAVQ\" target=\"blank\"><!--<i class=\"material-icons\">question_answer</i>-->Community</a></li>\n",
      "<li><a href=\"/login/\">Log in</a></li>\n",
      "<li><a href=\"/register/\">Sign up</a></li>\n",
      "</ul>\n",
      "<ul class=\"side-nav\" id=\"navsidebar\">\n",
      "<li>\n",
      "<form action=\"/search/?l=hi\" id=\"searchform\" method=\"get\" style=\"height:50px; padding-top:10px\">\n",
      "<input id=\"search\" name=\"q\" placeholder=\"search\" style=\"font-size:16px\" type=\"search\"/>\n",
      "</form>\n",
      "</li>\n",
      "<li><a href=\"/\">Home</a></li>\n",
      "<li><a class=\"tooltipped\" data-delay=\"50\" data-position=\"bottom\" data-tooltip=\"sudo apt-get upgrade\" href=\"/+=1/\">+=1</a></li>\n",
      "<!--<li><a href=\"/store/python-hoodie/\">Store</a></li>-->\n",
      "<li><a href=\"/support/\">Support the Content</a></li>\n",
      "<li><a href=\"https://goo.gl/7zgAVQ\" target=\"blank\"><!--<i class=\"material-icons\">question_answer</i>-->Community</a></li>\n",
      "<li><a href=\"/login/\">Log in</a></li>\n",
      "<li><a href=\"/register/\">Sign up</a></li>\n",
      "</ul>\n",
      "</div>\n",
      "</nav>\n"
     ]
    }
   ],
   "source": [
    "nav = soup.nav # nav is the navbar\n",
    "print(nav)"
   ]
  },
  {
   "cell_type": "code",
   "execution_count": 25,
   "metadata": {},
   "outputs": [
    {
     "name": "stdout",
     "output_type": "stream",
     "text": [
      "/\n",
      "#\n",
      "/\n",
      "/+=1/\n",
      "/support/\n",
      "https://goo.gl/7zgAVQ\n",
      "/login/\n",
      "/register/\n",
      "/\n",
      "/+=1/\n",
      "/support/\n",
      "https://goo.gl/7zgAVQ\n",
      "/login/\n",
      "/register/\n"
     ]
    }
   ],
   "source": [
    "for url in nav.find_all('a'):\n",
    "    print(url.get('href'))"
   ]
  },
  {
   "cell_type": "code",
   "execution_count": 26,
   "metadata": {},
   "outputs": [
    {
     "name": "stdout",
     "output_type": "stream",
     "text": [
      "Oh, hello! This is a wonderful page meant to let you practice web scraping. This page was originally created to help people work with the Beautiful Soup 4 library.\n",
      "The following table gives some general information for the following programming languages:\n",
      "I think it's clear that, on a scale of 1-10, python is:\n",
      "Javascript (dynamic data) test:\n",
      "y u bad tho?\n",
      "Whᶐt hαppéns now¿\n",
      "sitemap\n"
     ]
    }
   ],
   "source": [
    "body = soup.body\n",
    "for paragraph in body.find_all('p'):\n",
    "    print(paragraph.text)"
   ]
  },
  {
   "cell_type": "code",
   "execution_count": 27,
   "metadata": {},
   "outputs": [
    {
     "name": "stdout",
     "output_type": "stream",
     "text": [
      "\n",
      "Oh, hello! This is a wonderful page meant to let you practice web scraping. This page was originally created to help people work with the Beautiful Soup 4 library.\n",
      "The following table gives some general information for the following programming languages:\n",
      "\n",
      "Python\n",
      "Pascal\n",
      "Lisp\n",
      "D#\n",
      "Cobol\n",
      "Fortran\n",
      "Haskell\n",
      "\n",
      "\n",
      "\n",
      "Program Name\n",
      "Internet Points\n",
      "Kittens?\n",
      "\n",
      "\n",
      "Python\n",
      "932914021\n",
      "Definitely\n",
      "\n",
      "\n",
      "Pascal\n",
      "532\n",
      "Unlikely\n",
      "\n",
      "\n",
      "Lisp\n",
      "1522\n",
      "Uncertain\n",
      "\n",
      "\n",
      "D#\n",
      "12\n",
      "Possibly\n",
      "\n",
      "\n",
      "Cobol\n",
      "3\n",
      "No.\n",
      "\n",
      "\n",
      "Fortran\n",
      "52124\n",
      "Yes.\n",
      "\n",
      "\n",
      "Haskell\n",
      "24\n",
      "lol.\n",
      "\n",
      "\n",
      "I think it's clear that, on a scale of 1-10, python is:\n",
      "\n",
      "\n",
      "\n",
      "\n",
      "\n",
      "\n",
      "Javascript (dynamic data) test:\n",
      "y u bad tho?\n",
      "\n",
      "\n",
      "Beautiful is better than ugly.\n",
      "Explicit is better than implicit.\n",
      "Simple is better than complex.\n",
      "Complex is better than complicated.\n",
      "Flat is better than nested.\n",
      "Sparse is better than dense.\n",
      "Readability counts.\n",
      "Special cases aren't special enough to break the rules.\n",
      "Although practicality beats purity.\n",
      "Errors should never pass silently.\n",
      "Unless explicitly silenced.\n",
      "In the face of ambiguity, refuse the temptation to guess.\n",
      "There should be one-- and preferably only one --obvious way to do it.\n",
      "Although that way may not be obvious at first unless you're Dutch.\n",
      "Now is better than never.\n",
      "Although never is often better than *right* now.\n",
      "If the implementation is hard to explain, it's a bad idea.\n",
      "If the implementation is easy to explain, it may be a good idea.\n",
      "Namespaces are one honking great idea -- let's do more of those!\n",
      "Whᶐt hαppéns now¿\n",
      "sitemap\n",
      "\n"
     ]
    }
   ],
   "source": [
    "for div in soup.find_all('div', class_='body'): #remember to put the underscore, part of syntax \n",
    "    print(div.text)\n",
    "#you can also use attrs={\"class\": \"body\"}"
   ]
  },
  {
   "cell_type": "code",
   "execution_count": 28,
   "metadata": {},
   "outputs": [
    {
     "name": "stdout",
     "output_type": "stream",
     "text": [
      "html\n",
      "head\n",
      "meta\n",
      "title\n",
      "meta\n",
      "link\n",
      "link\n",
      "link\n",
      "meta\n",
      "link\n",
      "script\n",
      "script\n",
      "style\n",
      "script\n",
      "script\n",
      "script\n",
      "body\n",
      "div\n",
      "nav\n",
      "div\n",
      "a\n",
      "img\n",
      "a\n",
      "i\n",
      "ul\n",
      "li\n",
      "i\n",
      "li\n",
      "form\n",
      "input\n",
      "li\n",
      "a\n",
      "li\n",
      "a\n",
      "li\n",
      "a\n",
      "li\n",
      "a\n",
      "li\n",
      "a\n",
      "li\n",
      "a\n",
      "ul\n",
      "li\n",
      "form\n",
      "input\n",
      "li\n",
      "a\n",
      "li\n",
      "a\n",
      "li\n",
      "a\n",
      "li\n",
      "a\n",
      "li\n",
      "a\n",
      "li\n",
      "a\n",
      "div\n",
      "div\n",
      "p\n",
      "span\n",
      "a\n",
      "strong\n",
      "p\n",
      "code\n",
      "ul\n",
      "li\n",
      "li\n",
      "li\n",
      "li\n",
      "li\n",
      "li\n",
      "li\n",
      "table\n",
      "tr\n",
      "th\n",
      "th\n",
      "th\n",
      "tr\n",
      "td\n",
      "td\n",
      "td\n",
      "tr\n",
      "td\n",
      "td\n",
      "td\n",
      "tr\n",
      "td\n",
      "td\n",
      "td\n",
      "tr\n",
      "td\n",
      "td\n",
      "td\n",
      "tr\n",
      "td\n",
      "td\n",
      "td\n",
      "tr\n",
      "td\n",
      "td\n",
      "td\n",
      "tr\n",
      "td\n",
      "td\n",
      "td\n",
      "p\n",
      "div\n",
      "div\n",
      "div\n",
      "img\n",
      "p\n",
      "p\n",
      "script\n",
      "br\n",
      "br\n",
      "pre\n",
      "p\n",
      "p\n",
      "a\n",
      "strong\n",
      "script\n",
      "script\n",
      "script\n",
      "script\n",
      "footer\n",
      "div\n",
      "div\n",
      "div\n",
      "h5\n",
      "p\n",
      "ul\n",
      "li\n",
      "a\n",
      "li\n",
      "a\n",
      "li\n",
      "a\n",
      "li\n",
      "a\n",
      "li\n",
      "a\n",
      "div\n",
      "h6\n",
      "ul\n",
      "li\n",
      "a\n",
      "li\n",
      "a\n",
      "a\n",
      "p\n",
      "div\n",
      "div\n"
     ]
    }
   ],
   "source": [
    "for tag in soup.find_all(True):\n",
    "    print(tag.name)"
   ]
  },
  {
   "cell_type": "code",
   "execution_count": 29,
   "metadata": {},
   "outputs": [],
   "source": [
    "def has_class_but_no_id(tag):\n",
    "    return tag.has_attr('class')and not tag.has_attr('id')"
   ]
  },
  {
   "cell_type": "code",
   "execution_count": 30,
   "metadata": {},
   "outputs": [
    {
     "name": "stdout",
     "output_type": "stream",
     "text": [
      "[<div class=\"navbar-fixed\">\n",
      "<nav style=\"background-color:#003F72\">\n",
      "<div class=\"nav-wrapper container\">\n",
      "<a class=\"brand-logo\" href=\"/\"><img class=\"img-responsive\" src=\"/static/images/mainlogowhitethick.jpg\" style=\"width:50px; height;50px; margin-top:5px\"/></a>\n",
      "<a class=\"button-collapse\" data-activates=\"navsidebar\" href=\"#\"><i class=\"mdi-navigation-menu\"></i></a>\n",
      "<ul class=\"right hide-on-med-and-down\">\n",
      "<li><i class=\"material-icons\">search</i></li>\n",
      "<li>\n",
      "<form action=\"/search/?l=hi\" id=\"searchform\" method=\"get\" style=\"height:50px; padding-top:10px\">\n",
      "<input id=\"search\" name=\"q\" placeholder=\"search\" style=\"font-size:16px\" type=\"search\"/>\n",
      "</form>\n",
      "</li>\n",
      "<li><a href=\"/\">Home</a></li>\n",
      "<li><a class=\"tooltipped\" data-delay=\"50\" data-position=\"bottom\" data-tooltip=\"sudo apt-get upgrade\" href=\"/+=1/\">+=1</a></li>\n",
      "<!--<li><a href=\"/store/python-hoodie/\">Store</a></li>-->\n",
      "<li><a href=\"/support/\">Support the Content</a></li>\n",
      "<li><a href=\"https://goo.gl/7zgAVQ\" target=\"blank\"><!--<i class=\"material-icons\">question_answer</i>-->Community</a></li>\n",
      "<li><a href=\"/login/\">Log in</a></li>\n",
      "<li><a href=\"/register/\">Sign up</a></li>\n",
      "</ul>\n",
      "<ul class=\"side-nav\" id=\"navsidebar\">\n",
      "<li>\n",
      "<form action=\"/search/?l=hi\" id=\"searchform\" method=\"get\" style=\"height:50px; padding-top:10px\">\n",
      "<input id=\"search\" name=\"q\" placeholder=\"search\" style=\"font-size:16px\" type=\"search\"/>\n",
      "</form>\n",
      "</li>\n",
      "<li><a href=\"/\">Home</a></li>\n",
      "<li><a class=\"tooltipped\" data-delay=\"50\" data-position=\"bottom\" data-tooltip=\"sudo apt-get upgrade\" href=\"/+=1/\">+=1</a></li>\n",
      "<!--<li><a href=\"/store/python-hoodie/\">Store</a></li>-->\n",
      "<li><a href=\"/support/\">Support the Content</a></li>\n",
      "<li><a href=\"https://goo.gl/7zgAVQ\" target=\"blank\"><!--<i class=\"material-icons\">question_answer</i>-->Community</a></li>\n",
      "<li><a href=\"/login/\">Log in</a></li>\n",
      "<li><a href=\"/register/\">Sign up</a></li>\n",
      "</ul>\n",
      "</div>\n",
      "</nav>\n",
      "</div>, <div class=\"nav-wrapper container\">\n",
      "<a class=\"brand-logo\" href=\"/\"><img class=\"img-responsive\" src=\"/static/images/mainlogowhitethick.jpg\" style=\"width:50px; height;50px; margin-top:5px\"/></a>\n",
      "<a class=\"button-collapse\" data-activates=\"navsidebar\" href=\"#\"><i class=\"mdi-navigation-menu\"></i></a>\n",
      "<ul class=\"right hide-on-med-and-down\">\n",
      "<li><i class=\"material-icons\">search</i></li>\n",
      "<li>\n",
      "<form action=\"/search/?l=hi\" id=\"searchform\" method=\"get\" style=\"height:50px; padding-top:10px\">\n",
      "<input id=\"search\" name=\"q\" placeholder=\"search\" style=\"font-size:16px\" type=\"search\"/>\n",
      "</form>\n",
      "</li>\n",
      "<li><a href=\"/\">Home</a></li>\n",
      "<li><a class=\"tooltipped\" data-delay=\"50\" data-position=\"bottom\" data-tooltip=\"sudo apt-get upgrade\" href=\"/+=1/\">+=1</a></li>\n",
      "<!--<li><a href=\"/store/python-hoodie/\">Store</a></li>-->\n",
      "<li><a href=\"/support/\">Support the Content</a></li>\n",
      "<li><a href=\"https://goo.gl/7zgAVQ\" target=\"blank\"><!--<i class=\"material-icons\">question_answer</i>-->Community</a></li>\n",
      "<li><a href=\"/login/\">Log in</a></li>\n",
      "<li><a href=\"/register/\">Sign up</a></li>\n",
      "</ul>\n",
      "<ul class=\"side-nav\" id=\"navsidebar\">\n",
      "<li>\n",
      "<form action=\"/search/?l=hi\" id=\"searchform\" method=\"get\" style=\"height:50px; padding-top:10px\">\n",
      "<input id=\"search\" name=\"q\" placeholder=\"search\" style=\"font-size:16px\" type=\"search\"/>\n",
      "</form>\n",
      "</li>\n",
      "<li><a href=\"/\">Home</a></li>\n",
      "<li><a class=\"tooltipped\" data-delay=\"50\" data-position=\"bottom\" data-tooltip=\"sudo apt-get upgrade\" href=\"/+=1/\">+=1</a></li>\n",
      "<!--<li><a href=\"/store/python-hoodie/\">Store</a></li>-->\n",
      "<li><a href=\"/support/\">Support the Content</a></li>\n",
      "<li><a href=\"https://goo.gl/7zgAVQ\" target=\"blank\"><!--<i class=\"material-icons\">question_answer</i>-->Community</a></li>\n",
      "<li><a href=\"/login/\">Log in</a></li>\n",
      "<li><a href=\"/register/\">Sign up</a></li>\n",
      "</ul>\n",
      "</div>, <a class=\"brand-logo\" href=\"/\"><img class=\"img-responsive\" src=\"/static/images/mainlogowhitethick.jpg\" style=\"width:50px; height;50px; margin-top:5px\"/></a>, <img class=\"img-responsive\" src=\"/static/images/mainlogowhitethick.jpg\" style=\"width:50px; height;50px; margin-top:5px\"/>, <a class=\"button-collapse\" data-activates=\"navsidebar\" href=\"#\"><i class=\"mdi-navigation-menu\"></i></a>, <i class=\"mdi-navigation-menu\"></i>, <ul class=\"right hide-on-med-and-down\">\n",
      "<li><i class=\"material-icons\">search</i></li>\n",
      "<li>\n",
      "<form action=\"/search/?l=hi\" id=\"searchform\" method=\"get\" style=\"height:50px; padding-top:10px\">\n",
      "<input id=\"search\" name=\"q\" placeholder=\"search\" style=\"font-size:16px\" type=\"search\"/>\n",
      "</form>\n",
      "</li>\n",
      "<li><a href=\"/\">Home</a></li>\n",
      "<li><a class=\"tooltipped\" data-delay=\"50\" data-position=\"bottom\" data-tooltip=\"sudo apt-get upgrade\" href=\"/+=1/\">+=1</a></li>\n",
      "<!--<li><a href=\"/store/python-hoodie/\">Store</a></li>-->\n",
      "<li><a href=\"/support/\">Support the Content</a></li>\n",
      "<li><a href=\"https://goo.gl/7zgAVQ\" target=\"blank\"><!--<i class=\"material-icons\">question_answer</i>-->Community</a></li>\n",
      "<li><a href=\"/login/\">Log in</a></li>\n",
      "<li><a href=\"/register/\">Sign up</a></li>\n",
      "</ul>, <i class=\"material-icons\">search</i>, <a class=\"tooltipped\" data-delay=\"50\" data-position=\"bottom\" data-tooltip=\"sudo apt-get upgrade\" href=\"/+=1/\">+=1</a>, <a class=\"tooltipped\" data-delay=\"50\" data-position=\"bottom\" data-tooltip=\"sudo apt-get upgrade\" href=\"/+=1/\">+=1</a>, <div class=\"container\" style=\"max-width:1500px; min-height:100%\">\n",
      "<!--Notification:-->\n",
      "<!--<p style=\"font-size:80%\">TensorFlow.js Livestream:  <a href=\"https://www.youtube.com/watch?v=NjSlj95lliM\" target=\"blank\"><strong>Deep Learning in the browser</strong></a></p>-->\n",
      "<!--End Notification:-->\n",
      "<div class=\"body\">\n",
      "<p class=\"introduction\">Oh, hello! This is a <span style=\"font-size:115%\">wonderful</span> page meant to let you practice web scraping. This page was originally created to help people work with the <a href=\"https://www.crummy.com/software/BeautifulSoup/bs4/doc/\" target=\"blank\"><strong>Beautiful Soup 4</strong></a> library.</p>\n",
      "<p>The following table gives some general information for the following <code>programming languages</code>:</p>\n",
      "<ul>\n",
      "<li>Python</li>\n",
      "<li>Pascal</li>\n",
      "<li>Lisp</li>\n",
      "<li>D#</li>\n",
      "<li>Cobol</li>\n",
      "<li>Fortran</li>\n",
      "<li>Haskell</li>\n",
      "</ul>\n",
      "<table style=\"width:100%\">\n",
      "<tr>\n",
      "<th>Program Name</th>\n",
      "<th>Internet Points</th>\n",
      "<th>Kittens?</th>\n",
      "</tr>\n",
      "<tr>\n",
      "<td>Python</td>\n",
      "<td>932914021</td>\n",
      "<td>Definitely</td>\n",
      "</tr>\n",
      "<tr>\n",
      "<td>Pascal</td>\n",
      "<td>532</td>\n",
      "<td>Unlikely</td>\n",
      "</tr>\n",
      "<tr>\n",
      "<td>Lisp</td>\n",
      "<td>1522</td>\n",
      "<td>Uncertain</td>\n",
      "</tr>\n",
      "<tr>\n",
      "<td>D#</td>\n",
      "<td>12</td>\n",
      "<td>Possibly</td>\n",
      "</tr>\n",
      "<tr>\n",
      "<td>Cobol</td>\n",
      "<td>3</td>\n",
      "<td>No.</td>\n",
      "</tr>\n",
      "<tr>\n",
      "<td>Fortran</td>\n",
      "<td>52124</td>\n",
      "<td>Yes.</td>\n",
      "</tr>\n",
      "<tr>\n",
      "<td>Haskell</td>\n",
      "<td>24</td>\n",
      "<td>lol.</td>\n",
      "</tr>\n",
      "</table>\n",
      "<p>I think it's clear that, on a scale of 1-10, python is:</p>\n",
      "<div class=\"card hoverable\">\n",
      "<div class=\"card-content\">\n",
      "<div class=\"card-title\"></div>\n",
      "<img alt=\"omg batman\" class=\"responsive-img\" src=\"https://s-media-cache-ak0.pinimg.com/originals/e8/2a/ff/e82aff2876b080675449d0cef7685321.jpg\"/>\n",
      "</div>\n",
      "</div>\n",
      "<p>Javascript (dynamic data) test:</p>\n",
      "<p class=\"jstest\" id=\"yesnojs\">y u bad tho?</p>\n",
      "<script>\n",
      "     document.getElementById('yesnojs').innerHTML = 'Look at you shinin!';\n",
      "  </script>\n",
      "<br/><br/>\n",
      "<pre>Beautiful is better than ugly.\n",
      "Explicit is better than implicit.\n",
      "Simple is better than complex.\n",
      "Complex is better than complicated.\n",
      "Flat is better than nested.\n",
      "Sparse is better than dense.\n",
      "Readability counts.\n",
      "Special cases aren't special enough to break the rules.\n",
      "Although practicality beats purity.\n",
      "Errors should never pass silently.\n",
      "Unless explicitly silenced.\n",
      "In the face of ambiguity, refuse the temptation to guess.\n",
      "There should be one-- and preferably only one --obvious way to do it.\n",
      "Although that way may not be obvious at first unless you're Dutch.\n",
      "Now is better than never.\n",
      "Although never is often better than *right* now.\n",
      "If the implementation is hard to explain, it's a bad idea.\n",
      "If the implementation is easy to explain, it may be a good idea.\n",
      "Namespaces are one honking great idea -- let's do more of those!</pre>\n",
      "<p>Whᶐt hαppéns now¿</p>\n",
      "<p><a href=\"/sitemap.xml\" target=\"blank\"><strong>sitemap</strong></a></p>\n",
      "</div></div>, <div class=\"body\">\n",
      "<p class=\"introduction\">Oh, hello! This is a <span style=\"font-size:115%\">wonderful</span> page meant to let you practice web scraping. This page was originally created to help people work with the <a href=\"https://www.crummy.com/software/BeautifulSoup/bs4/doc/\" target=\"blank\"><strong>Beautiful Soup 4</strong></a> library.</p>\n",
      "<p>The following table gives some general information for the following <code>programming languages</code>:</p>\n",
      "<ul>\n",
      "<li>Python</li>\n",
      "<li>Pascal</li>\n",
      "<li>Lisp</li>\n",
      "<li>D#</li>\n",
      "<li>Cobol</li>\n",
      "<li>Fortran</li>\n",
      "<li>Haskell</li>\n",
      "</ul>\n",
      "<table style=\"width:100%\">\n",
      "<tr>\n",
      "<th>Program Name</th>\n",
      "<th>Internet Points</th>\n",
      "<th>Kittens?</th>\n",
      "</tr>\n",
      "<tr>\n",
      "<td>Python</td>\n",
      "<td>932914021</td>\n",
      "<td>Definitely</td>\n",
      "</tr>\n",
      "<tr>\n",
      "<td>Pascal</td>\n",
      "<td>532</td>\n",
      "<td>Unlikely</td>\n",
      "</tr>\n",
      "<tr>\n",
      "<td>Lisp</td>\n",
      "<td>1522</td>\n",
      "<td>Uncertain</td>\n",
      "</tr>\n",
      "<tr>\n",
      "<td>D#</td>\n",
      "<td>12</td>\n",
      "<td>Possibly</td>\n",
      "</tr>\n",
      "<tr>\n",
      "<td>Cobol</td>\n",
      "<td>3</td>\n",
      "<td>No.</td>\n",
      "</tr>\n",
      "<tr>\n",
      "<td>Fortran</td>\n",
      "<td>52124</td>\n",
      "<td>Yes.</td>\n",
      "</tr>\n",
      "<tr>\n",
      "<td>Haskell</td>\n",
      "<td>24</td>\n",
      "<td>lol.</td>\n",
      "</tr>\n",
      "</table>\n",
      "<p>I think it's clear that, on a scale of 1-10, python is:</p>\n",
      "<div class=\"card hoverable\">\n",
      "<div class=\"card-content\">\n",
      "<div class=\"card-title\"></div>\n",
      "<img alt=\"omg batman\" class=\"responsive-img\" src=\"https://s-media-cache-ak0.pinimg.com/originals/e8/2a/ff/e82aff2876b080675449d0cef7685321.jpg\"/>\n",
      "</div>\n",
      "</div>\n",
      "<p>Javascript (dynamic data) test:</p>\n",
      "<p class=\"jstest\" id=\"yesnojs\">y u bad tho?</p>\n",
      "<script>\n",
      "     document.getElementById('yesnojs').innerHTML = 'Look at you shinin!';\n",
      "  </script>\n",
      "<br/><br/>\n",
      "<pre>Beautiful is better than ugly.\n",
      "Explicit is better than implicit.\n",
      "Simple is better than complex.\n",
      "Complex is better than complicated.\n",
      "Flat is better than nested.\n",
      "Sparse is better than dense.\n",
      "Readability counts.\n",
      "Special cases aren't special enough to break the rules.\n",
      "Although practicality beats purity.\n",
      "Errors should never pass silently.\n",
      "Unless explicitly silenced.\n",
      "In the face of ambiguity, refuse the temptation to guess.\n",
      "There should be one-- and preferably only one --obvious way to do it.\n",
      "Although that way may not be obvious at first unless you're Dutch.\n",
      "Now is better than never.\n",
      "Although never is often better than *right* now.\n",
      "If the implementation is hard to explain, it's a bad idea.\n",
      "If the implementation is easy to explain, it may be a good idea.\n",
      "Namespaces are one honking great idea -- let's do more of those!</pre>\n",
      "<p>Whᶐt hαppéns now¿</p>\n",
      "<p><a href=\"/sitemap.xml\" target=\"blank\"><strong>sitemap</strong></a></p>\n",
      "</div>, <p class=\"introduction\">Oh, hello! This is a <span style=\"font-size:115%\">wonderful</span> page meant to let you practice web scraping. This page was originally created to help people work with the <a href=\"https://www.crummy.com/software/BeautifulSoup/bs4/doc/\" target=\"blank\"><strong>Beautiful Soup 4</strong></a> library.</p>, <div class=\"card hoverable\">\n",
      "<div class=\"card-content\">\n",
      "<div class=\"card-title\"></div>\n",
      "<img alt=\"omg batman\" class=\"responsive-img\" src=\"https://s-media-cache-ak0.pinimg.com/originals/e8/2a/ff/e82aff2876b080675449d0cef7685321.jpg\"/>\n",
      "</div>\n",
      "</div>, <div class=\"card-content\">\n",
      "<div class=\"card-title\"></div>\n",
      "<img alt=\"omg batman\" class=\"responsive-img\" src=\"https://s-media-cache-ak0.pinimg.com/originals/e8/2a/ff/e82aff2876b080675449d0cef7685321.jpg\"/>\n",
      "</div>, <div class=\"card-title\"></div>, <img alt=\"omg batman\" class=\"responsive-img\" src=\"https://s-media-cache-ak0.pinimg.com/originals/e8/2a/ff/e82aff2876b080675449d0cef7685321.jpg\"/>, <footer class=\"page-footer\">\n",
      "<div class=\"container\">\n",
      "<div class=\"row\">\n",
      "<div class=\"col l6 s12\">\n",
      "<h5 class=\"white-text\">You've reached the end!</h5>\n",
      "<p class=\"grey-text text-lighten-4\">Contact: Harrison@pythonprogramming.net.</p>\n",
      "<ul>\n",
      "<li><a class=\"grey-text text-lighten-3\" href=\"/support-donate/\">Support this Website!</a></li>\n",
      "<li><a class=\"grey-text text-lighten-3\" href=\"/consulting/\">Consulting and Contracting</a></li>\n",
      "<li><a class=\"grey-text text-lighten-3\" href=\"https://www.facebook.com/pythonprogramming.net/\">Facebook</a></li>\n",
      "<li><a class=\"grey-text text-lighten-3\" href=\"https://twitter.com/sentdex\">Twitter</a></li>\n",
      "<li><a class=\"grey-text text-lighten-3\" href=\"https://instagram.com/sentdex\">Instagram</a></li>\n",
      "</ul>\n",
      "</div>\n",
      "<div class=\"col l4 offset-l2 s12\">\n",
      "<h6 class=\"white-text\">Legal stuff:</h6>\n",
      "<ul>\n",
      "<li><a class=\"grey-text text-lighten-3\" href=\"/about/tos/\">Terms and Conditions</a></li>\n",
      "<li><a class=\"grey-text text-lighten-3\" href=\"/about/privacy-policy/\">Privacy Policy</a></li>\n",
      "</ul>\n",
      "</div>\n",
      "</div>\n",
      "</div>\n",
      "<a href=\"https://xkcd.com/353/\" target=\"blank\"><p class=\"grey-text right\" style=\"padding-right:10px\">Programming is a superpower.</p></a>\n",
      "<div class=\"footer-copyright\">\n",
      "<div class=\"container\">\n",
      "            © OVER 9000! PythonProgramming.net\n",
      "\n",
      "            </div>\n",
      "</div>\n",
      "</footer>, <div class=\"container\">\n",
      "<div class=\"row\">\n",
      "<div class=\"col l6 s12\">\n",
      "<h5 class=\"white-text\">You've reached the end!</h5>\n",
      "<p class=\"grey-text text-lighten-4\">Contact: Harrison@pythonprogramming.net.</p>\n",
      "<ul>\n",
      "<li><a class=\"grey-text text-lighten-3\" href=\"/support-donate/\">Support this Website!</a></li>\n",
      "<li><a class=\"grey-text text-lighten-3\" href=\"/consulting/\">Consulting and Contracting</a></li>\n",
      "<li><a class=\"grey-text text-lighten-3\" href=\"https://www.facebook.com/pythonprogramming.net/\">Facebook</a></li>\n",
      "<li><a class=\"grey-text text-lighten-3\" href=\"https://twitter.com/sentdex\">Twitter</a></li>\n",
      "<li><a class=\"grey-text text-lighten-3\" href=\"https://instagram.com/sentdex\">Instagram</a></li>\n",
      "</ul>\n",
      "</div>\n",
      "<div class=\"col l4 offset-l2 s12\">\n",
      "<h6 class=\"white-text\">Legal stuff:</h6>\n",
      "<ul>\n",
      "<li><a class=\"grey-text text-lighten-3\" href=\"/about/tos/\">Terms and Conditions</a></li>\n",
      "<li><a class=\"grey-text text-lighten-3\" href=\"/about/privacy-policy/\">Privacy Policy</a></li>\n",
      "</ul>\n",
      "</div>\n",
      "</div>\n",
      "</div>, <div class=\"row\">\n",
      "<div class=\"col l6 s12\">\n",
      "<h5 class=\"white-text\">You've reached the end!</h5>\n",
      "<p class=\"grey-text text-lighten-4\">Contact: Harrison@pythonprogramming.net.</p>\n",
      "<ul>\n",
      "<li><a class=\"grey-text text-lighten-3\" href=\"/support-donate/\">Support this Website!</a></li>\n",
      "<li><a class=\"grey-text text-lighten-3\" href=\"/consulting/\">Consulting and Contracting</a></li>\n",
      "<li><a class=\"grey-text text-lighten-3\" href=\"https://www.facebook.com/pythonprogramming.net/\">Facebook</a></li>\n",
      "<li><a class=\"grey-text text-lighten-3\" href=\"https://twitter.com/sentdex\">Twitter</a></li>\n",
      "<li><a class=\"grey-text text-lighten-3\" href=\"https://instagram.com/sentdex\">Instagram</a></li>\n",
      "</ul>\n",
      "</div>\n",
      "<div class=\"col l4 offset-l2 s12\">\n",
      "<h6 class=\"white-text\">Legal stuff:</h6>\n",
      "<ul>\n",
      "<li><a class=\"grey-text text-lighten-3\" href=\"/about/tos/\">Terms and Conditions</a></li>\n",
      "<li><a class=\"grey-text text-lighten-3\" href=\"/about/privacy-policy/\">Privacy Policy</a></li>\n",
      "</ul>\n",
      "</div>\n",
      "</div>, <div class=\"col l6 s12\">\n",
      "<h5 class=\"white-text\">You've reached the end!</h5>\n",
      "<p class=\"grey-text text-lighten-4\">Contact: Harrison@pythonprogramming.net.</p>\n",
      "<ul>\n",
      "<li><a class=\"grey-text text-lighten-3\" href=\"/support-donate/\">Support this Website!</a></li>\n",
      "<li><a class=\"grey-text text-lighten-3\" href=\"/consulting/\">Consulting and Contracting</a></li>\n",
      "<li><a class=\"grey-text text-lighten-3\" href=\"https://www.facebook.com/pythonprogramming.net/\">Facebook</a></li>\n",
      "<li><a class=\"grey-text text-lighten-3\" href=\"https://twitter.com/sentdex\">Twitter</a></li>\n",
      "<li><a class=\"grey-text text-lighten-3\" href=\"https://instagram.com/sentdex\">Instagram</a></li>\n",
      "</ul>\n",
      "</div>, <h5 class=\"white-text\">You've reached the end!</h5>, <p class=\"grey-text text-lighten-4\">Contact: Harrison@pythonprogramming.net.</p>, <a class=\"grey-text text-lighten-3\" href=\"/support-donate/\">Support this Website!</a>, <a class=\"grey-text text-lighten-3\" href=\"/consulting/\">Consulting and Contracting</a>, <a class=\"grey-text text-lighten-3\" href=\"https://www.facebook.com/pythonprogramming.net/\">Facebook</a>, <a class=\"grey-text text-lighten-3\" href=\"https://twitter.com/sentdex\">Twitter</a>, <a class=\"grey-text text-lighten-3\" href=\"https://instagram.com/sentdex\">Instagram</a>, <div class=\"col l4 offset-l2 s12\">\n",
      "<h6 class=\"white-text\">Legal stuff:</h6>\n",
      "<ul>\n",
      "<li><a class=\"grey-text text-lighten-3\" href=\"/about/tos/\">Terms and Conditions</a></li>\n",
      "<li><a class=\"grey-text text-lighten-3\" href=\"/about/privacy-policy/\">Privacy Policy</a></li>\n",
      "</ul>\n",
      "</div>, <h6 class=\"white-text\">Legal stuff:</h6>, <a class=\"grey-text text-lighten-3\" href=\"/about/tos/\">Terms and Conditions</a>, <a class=\"grey-text text-lighten-3\" href=\"/about/privacy-policy/\">Privacy Policy</a>, <p class=\"grey-text right\" style=\"padding-right:10px\">Programming is a superpower.</p>, <div class=\"footer-copyright\">\n",
      "<div class=\"container\">\n",
      "            © OVER 9000! PythonProgramming.net\n",
      "\n",
      "            </div>\n",
      "</div>, <div class=\"container\">\n",
      "            © OVER 9000! PythonProgramming.net\n",
      "\n",
      "            </div>]\n"
     ]
    }
   ],
   "source": [
    "print(soup.find_all(has_class_but_no_id))"
   ]
  },
  {
   "cell_type": "code",
   "execution_count": 33,
   "metadata": {},
   "outputs": [
    {
     "data": {
      "text/plain": [
       "[<link href=\"https://fonts.googleapis.com/icon?family=Material+Icons\" rel=\"stylesheet\"/>,\n",
       " <a class=\"brand-logo\" href=\"/\"><img class=\"img-responsive\" src=\"/static/images/mainlogowhitethick.jpg\" style=\"width:50px; height;50px; margin-top:5px\"/></a>,\n",
       " <a class=\"button-collapse\" data-activates=\"navsidebar\" href=\"#\"><i class=\"mdi-navigation-menu\"></i></a>,\n",
       " <a href=\"/\">Home</a>,\n",
       " <a class=\"tooltipped\" data-delay=\"50\" data-position=\"bottom\" data-tooltip=\"sudo apt-get upgrade\" href=\"/+=1/\">+=1</a>,\n",
       " <a href=\"/support/\">Support the Content</a>,\n",
       " <a href=\"https://goo.gl/7zgAVQ\" target=\"blank\"><!--<i class=\"material-icons\">question_answer</i>-->Community</a>,\n",
       " <a href=\"/login/\">Log in</a>,\n",
       " <a href=\"/register/\">Sign up</a>,\n",
       " <a href=\"/\">Home</a>,\n",
       " <a class=\"tooltipped\" data-delay=\"50\" data-position=\"bottom\" data-tooltip=\"sudo apt-get upgrade\" href=\"/+=1/\">+=1</a>,\n",
       " <a href=\"/support/\">Support the Content</a>,\n",
       " <a href=\"https://goo.gl/7zgAVQ\" target=\"blank\"><!--<i class=\"material-icons\">question_answer</i>-->Community</a>,\n",
       " <a href=\"/login/\">Log in</a>,\n",
       " <a href=\"/register/\">Sign up</a>,\n",
       " <a href=\"https://www.crummy.com/software/BeautifulSoup/bs4/doc/\" target=\"blank\"><strong>Beautiful Soup 4</strong></a>,\n",
       " <a href=\"/sitemap.xml\" target=\"blank\"><strong>sitemap</strong></a>,\n",
       " <a class=\"grey-text text-lighten-3\" href=\"/support-donate/\">Support this Website!</a>,\n",
       " <a class=\"grey-text text-lighten-3\" href=\"/consulting/\">Consulting and Contracting</a>,\n",
       " <a class=\"grey-text text-lighten-3\" href=\"https://www.facebook.com/pythonprogramming.net/\">Facebook</a>,\n",
       " <a class=\"grey-text text-lighten-3\" href=\"https://twitter.com/sentdex\">Twitter</a>,\n",
       " <a class=\"grey-text text-lighten-3\" href=\"https://instagram.com/sentdex\">Instagram</a>,\n",
       " <a class=\"grey-text text-lighten-3\" href=\"/about/tos/\">Terms and Conditions</a>,\n",
       " <a class=\"grey-text text-lighten-3\" href=\"/about/privacy-policy/\">Privacy Policy</a>,\n",
       " <a href=\"https://xkcd.com/353/\" target=\"blank\"><p class=\"grey-text right\" style=\"padding-right:10px\">Programming is a superpower.</p></a>]"
      ]
     },
     "execution_count": 33,
     "metadata": {},
     "output_type": "execute_result"
    }
   ],
   "source": [
    "#import re\n",
    "def not_lacie(href):\n",
    "    return href and not \"static\" in href   #re.compile(\"tinker\").search(href)\n",
    "soup.find_all(href=not_lacie)"
   ]
  },
  {
   "cell_type": "raw",
   "metadata": {},
   "source": [
    "tag = soup.a\n",
    "tag.string = \"New link text.\"\n",
    "\n",
    "\n",
    "soup.a.append(\"Bar\")"
   ]
  },
  {
   "cell_type": "code",
   "execution_count": 34,
   "metadata": {},
   "outputs": [
    {
     "name": "stdout",
     "output_type": "stream",
     "text": [
      "<html>\n",
      " <head>\n",
      "  <!--\n",
      "\t\tpalette:\n",
      "\t\tdark blue: #003F72\n",
      "\t\tyellow: #FFD166\n",
      "\t\tsalmon: #EF476F\n",
      "\t\toffwhite: #e7d7d7\n",
      "\t\tLight Blue: #118AB2\n",
      "\t\tLight green: #7DDF64\n",
      "\t\t-->\n",
      "  <meta content=\"width=device-width, initial-scale=1.0\" name=\"viewport\"/>\n",
      "  <title>\n",
      "   Python Programming Tutorials\n",
      "  </title>\n",
      "  <meta content=\"Python Programming tutorials from beginner to advanced on a massive variety of topics. All video and text tutorials are free.\" name=\"description\"/>\n",
      "  <link href=\"/static/favicon.ico\" rel=\"shortcut icon\"/>\n",
      "  <link href=\"/static/css/materialize.min.css\" rel=\"stylesheet\"/>\n",
      "  <link href=\"https://fonts.googleapis.com/icon?family=Material+Icons\" rel=\"stylesheet\"/>\n",
      "  <meta content=\"3fLok05gk5gGtWd_VSXbSSSH27F2kr1QqcxYz9vYq2k\" name=\"google-site-verification\"/>\n",
      "  <link href=\"/static/css/bootstrap.css\" rel=\"stylesheet\" type=\"text/css\"/>\n",
      "  <!-- Compiled and minified CSS -->\n",
      "  <!-- Compiled and minified JavaScript -->\n",
      "  <script src=\"https://code.jquery.com/jquery-2.1.4.min.js\">\n",
      "  </script>\n",
      "  <script src=\"https://cdnjs.cloudflare.com/ajax/libs/materialize/0.97.3/js/materialize.min.js\">\n",
      "  </script>\n",
      "  <style>\n",
      "   @media (min-width:992px) {\n",
      "\t\t#aside {\n",
      "\t\t\twidth:250px;\n",
      "\t\t}\n",
      "\t\tpre { tab-size: 4;}\n",
      "\t\t.btn {background-color:#FFD166;\n",
      "\t\t\t  color:#000;\n",
      "\t\t      height:auto;\n",
      "\t\t\t  font-color:#000;\n",
      "\t\t\t  }\n",
      "\t\t.btn:hover {background-color:#FFD166;\n",
      "\t\t\t\t\t}\n",
      "  </style>\n",
      "  <!-- Google Tracking -->\n",
      "  <script>\n",
      "   (function(i,s,o,g,r,a,m){i['GoogleAnalyticsObject']=r;i[r]=i[r]||function(){\n",
      "\t\t\t  (i[r].q=i[r].q||[]).push(arguments)},i[r].l=1*new Date();a=s.createElement(o),\n",
      "\t\t\t  m=s.getElementsByTagName(o)[0];a.async=1;a.src=g;m.parentNode.insertBefore(a,m)\n",
      "\t\t\t  })(window,document,'script','//www.google-analytics.com/analytics.js','ga');\n",
      "              ga('config', 'UA-51891827-1', {'anonymize_ip': true});﻿\n",
      "\t\t\t  ga('create', 'UA-51891827-1', 'auto');\n",
      "\t\t\t  ga('send', 'pageview');\n",
      "  </script>\n",
      "  <script async=\"\" src=\"//pagead2.googlesyndication.com/pagead/js/adsbygoogle.js\">\n",
      "  </script>\n",
      "  <script>\n",
      "   (adsbygoogle = window.adsbygoogle || []).push({\n",
      "                              google_ad_client: \"ca-pub-1579050400541873\",\n",
      "                              enable_page_level_ads: true\n",
      "                         });\n",
      "  </script>\n",
      " </head>\n",
      " <body>\n",
      "  <div class=\"navbar-fixed\">\n",
      "   <nav style=\"background-color:#003F72\">\n",
      "    <div class=\"nav-wrapper container\">\n",
      "     <a class=\"brand-logo\" href=\"/\">\n",
      "      <img class=\"img-responsive\" src=\"/static/images/mainlogowhitethick.jpg\" style=\"width:50px; height;50px; margin-top:5px\"/>\n",
      "     </a>\n",
      "     <a class=\"button-collapse\" data-activates=\"navsidebar\" href=\"#\">\n",
      "      <i class=\"mdi-navigation-menu\">\n",
      "      </i>\n",
      "     </a>\n",
      "     <ul class=\"right hide-on-med-and-down\">\n",
      "      <li>\n",
      "       <i class=\"material-icons\">\n",
      "        search\n",
      "       </i>\n",
      "      </li>\n",
      "      <li>\n",
      "       <form action=\"/search/?l=hi\" id=\"searchform\" method=\"get\" style=\"height:50px; padding-top:10px\">\n",
      "        <input id=\"search\" name=\"q\" placeholder=\"search\" style=\"font-size:16px\" type=\"search\"/>\n",
      "       </form>\n",
      "      </li>\n",
      "      <li>\n",
      "       <a href=\"/\">\n",
      "        Home\n",
      "       </a>\n",
      "      </li>\n",
      "      <li>\n",
      "       <a class=\"tooltipped\" data-delay=\"50\" data-position=\"bottom\" data-tooltip=\"sudo apt-get upgrade\" href=\"/+=1/\">\n",
      "        +=1\n",
      "       </a>\n",
      "      </li>\n",
      "      <!--<li><a href=\"/store/python-hoodie/\">Store</a></li>-->\n",
      "      <li>\n",
      "       <a href=\"/support/\">\n",
      "        Support the Content\n",
      "       </a>\n",
      "      </li>\n",
      "      <li>\n",
      "       <a href=\"https://goo.gl/7zgAVQ\" target=\"blank\">\n",
      "        <!--<i class=\"material-icons\">question_answer</i>-->\n",
      "        Community\n",
      "       </a>\n",
      "      </li>\n",
      "      <li>\n",
      "       <a href=\"/login/\">\n",
      "        Log in\n",
      "       </a>\n",
      "      </li>\n",
      "      <li>\n",
      "       <a href=\"/register/\">\n",
      "        Sign up\n",
      "       </a>\n",
      "      </li>\n",
      "     </ul>\n",
      "     <ul class=\"side-nav\" id=\"navsidebar\">\n",
      "      <li>\n",
      "       <form action=\"/search/?l=hi\" id=\"searchform\" method=\"get\" style=\"height:50px; padding-top:10px\">\n",
      "        <input id=\"search\" name=\"q\" placeholder=\"search\" style=\"font-size:16px\" type=\"search\"/>\n",
      "       </form>\n",
      "      </li>\n",
      "      <li>\n",
      "       <a href=\"/\">\n",
      "        Home\n",
      "       </a>\n",
      "      </li>\n",
      "      <li>\n",
      "       <a class=\"tooltipped\" data-delay=\"50\" data-position=\"bottom\" data-tooltip=\"sudo apt-get upgrade\" href=\"/+=1/\">\n",
      "        +=1\n",
      "       </a>\n",
      "      </li>\n",
      "      <!--<li><a href=\"/store/python-hoodie/\">Store</a></li>-->\n",
      "      <li>\n",
      "       <a href=\"/support/\">\n",
      "        Support the Content\n",
      "       </a>\n",
      "      </li>\n",
      "      <li>\n",
      "       <a href=\"https://goo.gl/7zgAVQ\" target=\"blank\">\n",
      "        <!--<i class=\"material-icons\">question_answer</i>-->\n",
      "        Community\n",
      "       </a>\n",
      "      </li>\n",
      "      <li>\n",
      "       <a href=\"/login/\">\n",
      "        Log in\n",
      "       </a>\n",
      "      </li>\n",
      "      <li>\n",
      "       <a href=\"/register/\">\n",
      "        Sign up\n",
      "       </a>\n",
      "      </li>\n",
      "     </ul>\n",
      "    </div>\n",
      "   </nav>\n",
      "  </div>\n",
      "  <!-- main content -->\n",
      "  <div class=\"container\" style=\"max-width:1500px; min-height:100%\">\n",
      "   <!--Notification:-->\n",
      "   <!--<p style=\"font-size:80%\">TensorFlow.js Livestream:  <a href=\"https://www.youtube.com/watch?v=NjSlj95lliM\" target=\"blank\"><strong>Deep Learning in the browser</strong></a></p>-->\n",
      "   <!--End Notification:-->\n",
      "   <div class=\"body\">\n",
      "    <p class=\"introduction\">\n",
      "     Oh, hello! This is a\n",
      "     <span style=\"font-size:115%\">\n",
      "      wonderful\n",
      "     </span>\n",
      "     page meant to let you practice web scraping. This page was originally created to help people work with the\n",
      "     <a href=\"https://www.crummy.com/software/BeautifulSoup/bs4/doc/\" target=\"blank\">\n",
      "      <strong>\n",
      "       Beautiful Soup 4\n",
      "      </strong>\n",
      "     </a>\n",
      "     library.\n",
      "    </p>\n",
      "    <p>\n",
      "     The following table gives some general information for the following\n",
      "     <code>\n",
      "      programming languages\n",
      "     </code>\n",
      "     :\n",
      "    </p>\n",
      "    <ul>\n",
      "     <li>\n",
      "      Python\n",
      "     </li>\n",
      "     <li>\n",
      "      Pascal\n",
      "     </li>\n",
      "     <li>\n",
      "      Lisp\n",
      "     </li>\n",
      "     <li>\n",
      "      D#\n",
      "     </li>\n",
      "     <li>\n",
      "      Cobol\n",
      "     </li>\n",
      "     <li>\n",
      "      Fortran\n",
      "     </li>\n",
      "     <li>\n",
      "      Haskell\n",
      "     </li>\n",
      "    </ul>\n",
      "    <table style=\"width:100%\">\n",
      "     <tr>\n",
      "      <th>\n",
      "       Program Name\n",
      "      </th>\n",
      "      <th>\n",
      "       Internet Points\n",
      "      </th>\n",
      "      <th>\n",
      "       Kittens?\n",
      "      </th>\n",
      "     </tr>\n",
      "     <tr>\n",
      "      <td>\n",
      "       Python\n",
      "      </td>\n",
      "      <td>\n",
      "       932914021\n",
      "      </td>\n",
      "      <td>\n",
      "       Definitely\n",
      "      </td>\n",
      "     </tr>\n",
      "     <tr>\n",
      "      <td>\n",
      "       Pascal\n",
      "      </td>\n",
      "      <td>\n",
      "       532\n",
      "      </td>\n",
      "      <td>\n",
      "       Unlikely\n",
      "      </td>\n",
      "     </tr>\n",
      "     <tr>\n",
      "      <td>\n",
      "       Lisp\n",
      "      </td>\n",
      "      <td>\n",
      "       1522\n",
      "      </td>\n",
      "      <td>\n",
      "       Uncertain\n",
      "      </td>\n",
      "     </tr>\n",
      "     <tr>\n",
      "      <td>\n",
      "       D#\n",
      "      </td>\n",
      "      <td>\n",
      "       12\n",
      "      </td>\n",
      "      <td>\n",
      "       Possibly\n",
      "      </td>\n",
      "     </tr>\n",
      "     <tr>\n",
      "      <td>\n",
      "       Cobol\n",
      "      </td>\n",
      "      <td>\n",
      "       3\n",
      "      </td>\n",
      "      <td>\n",
      "       No.\n",
      "      </td>\n",
      "     </tr>\n",
      "     <tr>\n",
      "      <td>\n",
      "       Fortran\n",
      "      </td>\n",
      "      <td>\n",
      "       52124\n",
      "      </td>\n",
      "      <td>\n",
      "       Yes.\n",
      "      </td>\n",
      "     </tr>\n",
      "     <tr>\n",
      "      <td>\n",
      "       Haskell\n",
      "      </td>\n",
      "      <td>\n",
      "       24\n",
      "      </td>\n",
      "      <td>\n",
      "       lol.\n",
      "      </td>\n",
      "     </tr>\n",
      "    </table>\n",
      "    <p>\n",
      "     I think it's clear that, on a scale of 1-10, python is:\n",
      "    </p>\n",
      "    <div class=\"card hoverable\">\n",
      "     <div class=\"card-content\">\n",
      "      <div class=\"card-title\">\n",
      "      </div>\n",
      "      <img alt=\"omg batman\" class=\"responsive-img\" src=\"https://s-media-cache-ak0.pinimg.com/originals/e8/2a/ff/e82aff2876b080675449d0cef7685321.jpg\"/>\n",
      "     </div>\n",
      "    </div>\n",
      "    <p>\n",
      "     Javascript (dynamic data) test:\n",
      "    </p>\n",
      "    <p class=\"jstest\" id=\"yesnojs\">\n",
      "     y u bad tho?\n",
      "    </p>\n",
      "    <script>\n",
      "     document.getElementById('yesnojs').innerHTML = 'Look at you shinin!';\n",
      "    </script>\n",
      "    <br/>\n",
      "    <br/>\n",
      "    <pre>Beautiful is better than ugly.\n",
      "Explicit is better than implicit.\n",
      "Simple is better than complex.\n",
      "Complex is better than complicated.\n",
      "Flat is better than nested.\n",
      "Sparse is better than dense.\n",
      "Readability counts.\n",
      "Special cases aren't special enough to break the rules.\n",
      "Although practicality beats purity.\n",
      "Errors should never pass silently.\n",
      "Unless explicitly silenced.\n",
      "In the face of ambiguity, refuse the temptation to guess.\n",
      "There should be one-- and preferably only one --obvious way to do it.\n",
      "Although that way may not be obvious at first unless you're Dutch.\n",
      "Now is better than never.\n",
      "Although never is often better than *right* now.\n",
      "If the implementation is hard to explain, it's a bad idea.\n",
      "If the implementation is easy to explain, it may be a good idea.\n",
      "Namespaces are one honking great idea -- let's do more of those!</pre>\n",
      "    <p>\n",
      "     Whᶐt hαppéns now¿\n",
      "    </p>\n",
      "    <p>\n",
      "     <a href=\"/sitemap.xml\" target=\"blank\">\n",
      "      <strong>\n",
      "       sitemap\n",
      "      </strong>\n",
      "     </a>\n",
      "    </p>\n",
      "   </div>\n",
      "  </div>\n",
      " </body>\n",
      " <!--login modal-->\n",
      " <!--Register modal-->\n",
      " <script>\n",
      "  $(document).ready(function(){\n",
      "\t\t\t\t$(\".button-collapse\").sideNav();\n",
      "\t\t\t\t$('.modal-trigger').leanModal();\n",
      "\t\t\t\t$('.collapsible').collapsible({\n",
      "\t\t\t\t  accordion : false // A setting that changes the collapsible behavior to expandable instead of the default accordion style\n",
      "\t\t\t\t});\n",
      "\t\t\t\t$('#aside').pushpin({ top:110, bottom:500 });\n",
      "\t\t  });\n",
      " </script>\n",
      " <script>\n",
      "  $(document).ready(function(){\n",
      "\t\t\t$('.collapsible').collapsible({\n",
      "\t\t\t  accordion : false // A setting that changes the collapsible behavior to expandable instead of the default accordion style\n",
      "\t\t\t});\n",
      "\t\t\t$('select').material_select();\n",
      "\t\t  });\n",
      " </script>\n",
      " <script>\n",
      "  function goBack() {\n",
      "\t\t\twindow.history.back()\n",
      "\t\t}\n",
      " </script>\n",
      " <script src=\"/static/js/run_prettify.js\" type=\"text/javascript\">\n",
      " </script>\n",
      " <footer class=\"page-footer\">\n",
      "  <div class=\"container\">\n",
      "   <div class=\"row\">\n",
      "    <div class=\"col l6 s12\">\n",
      "     <h5 class=\"white-text\">\n",
      "      You've reached the end!\n",
      "     </h5>\n",
      "     <p class=\"grey-text text-lighten-4\">\n",
      "      Contact: Harrison@pythonprogramming.net.\n",
      "     </p>\n",
      "     <ul>\n",
      "      <li>\n",
      "       <a class=\"grey-text text-lighten-3\" href=\"/support-donate/\">\n",
      "        Support this Website!\n",
      "       </a>\n",
      "      </li>\n",
      "      <li>\n",
      "       <a class=\"grey-text text-lighten-3\" href=\"/consulting/\">\n",
      "        Consulting and Contracting\n",
      "       </a>\n",
      "      </li>\n",
      "      <li>\n",
      "       <a class=\"grey-text text-lighten-3\" href=\"https://www.facebook.com/pythonprogramming.net/\">\n",
      "        Facebook\n",
      "       </a>\n",
      "      </li>\n",
      "      <li>\n",
      "       <a class=\"grey-text text-lighten-3\" href=\"https://twitter.com/sentdex\">\n",
      "        Twitter\n",
      "       </a>\n",
      "      </li>\n",
      "      <li>\n",
      "       <a class=\"grey-text text-lighten-3\" href=\"https://instagram.com/sentdex\">\n",
      "        Instagram\n",
      "       </a>\n",
      "      </li>\n",
      "     </ul>\n",
      "    </div>\n",
      "    <div class=\"col l4 offset-l2 s12\">\n",
      "     <h6 class=\"white-text\">\n",
      "      Legal stuff:\n",
      "     </h6>\n",
      "     <ul>\n",
      "      <li>\n",
      "       <a class=\"grey-text text-lighten-3\" href=\"/about/tos/\">\n",
      "        Terms and Conditions\n",
      "       </a>\n",
      "      </li>\n",
      "      <li>\n",
      "       <a class=\"grey-text text-lighten-3\" href=\"/about/privacy-policy/\">\n",
      "        Privacy Policy\n",
      "       </a>\n",
      "      </li>\n",
      "     </ul>\n",
      "    </div>\n",
      "   </div>\n",
      "  </div>\n",
      "  <a href=\"https://xkcd.com/353/\" target=\"blank\">\n",
      "   <p class=\"grey-text right\" style=\"padding-right:10px\">\n",
      "    Programming is a superpower.\n",
      "   </p>\n",
      "  </a>\n",
      "  <div class=\"footer-copyright\">\n",
      "   <div class=\"container\">\n",
      "    © OVER 9000! PythonProgramming.net\n",
      "   </div>\n",
      "  </div>\n",
      " </footer>\n",
      "</html>\n",
      "\n"
     ]
    }
   ],
   "source": [
    "print(soup.prettify())"
   ]
  },
  {
   "cell_type": "code",
   "execution_count": 35,
   "metadata": {},
   "outputs": [
    {
     "name": "stdout",
     "output_type": "stream",
     "text": [
      "<table style=\"width:100%\">\n",
      "<tr>\n",
      "<th>Program Name</th>\n",
      "<th>Internet Points</th>\n",
      "<th>Kittens?</th>\n",
      "</tr>\n",
      "<tr>\n",
      "<td>Python</td>\n",
      "<td>932914021</td>\n",
      "<td>Definitely</td>\n",
      "</tr>\n",
      "<tr>\n",
      "<td>Pascal</td>\n",
      "<td>532</td>\n",
      "<td>Unlikely</td>\n",
      "</tr>\n",
      "<tr>\n",
      "<td>Lisp</td>\n",
      "<td>1522</td>\n",
      "<td>Uncertain</td>\n",
      "</tr>\n",
      "<tr>\n",
      "<td>D#</td>\n",
      "<td>12</td>\n",
      "<td>Possibly</td>\n",
      "</tr>\n",
      "<tr>\n",
      "<td>Cobol</td>\n",
      "<td>3</td>\n",
      "<td>No.</td>\n",
      "</tr>\n",
      "<tr>\n",
      "<td>Fortran</td>\n",
      "<td>52124</td>\n",
      "<td>Yes.</td>\n",
      "</tr>\n",
      "<tr>\n",
      "<td>Haskell</td>\n",
      "<td>24</td>\n",
      "<td>lol.</td>\n",
      "</tr>\n",
      "</table>\n"
     ]
    }
   ],
   "source": [
    "table = soup.table # or table = soup.find('table')\n",
    "print(table)\n"
   ]
  },
  {
   "cell_type": "code",
   "execution_count": 36,
   "metadata": {},
   "outputs": [
    {
     "name": "stdout",
     "output_type": "stream",
     "text": [
      "[]\n",
      "['Python', '932914021', 'Definitely']\n",
      "['Pascal', '532', 'Unlikely']\n",
      "['Lisp', '1522', 'Uncertain']\n",
      "['D#', '12', 'Possibly']\n",
      "['Cobol', '3', 'No.']\n",
      "['Fortran', '52124', 'Yes.']\n",
      "['Haskell', '24', 'lol.']\n"
     ]
    }
   ],
   "source": [
    "table_rows = table.find_all('tr')\n",
    "for tr in table_rows:\n",
    "    td = tr.find_all('td')\n",
    "    row = [i.text for i in td]\n",
    "    print(row)\n",
    "#first row is empty since it has th tags"
   ]
  },
  {
   "cell_type": "code",
   "execution_count": 37,
   "metadata": {},
   "outputs": [
    {
     "name": "stdout",
     "output_type": "stream",
     "text": [
      "  Program Name  Internet Points    Kittens?\n",
      "0       Python        932914021  Definitely\n",
      "1       Pascal              532    Unlikely\n",
      "2         Lisp             1522   Uncertain\n",
      "3           D#               12    Possibly\n",
      "4        Cobol                3         No.\n",
      "5      Fortran            52124        Yes.\n",
      "6      Haskell               24        lol.\n"
     ]
    }
   ],
   "source": [
    "import pandas as pd\n",
    "\n",
    "dfs = pd.read_html('https://pythonprogramming.net/parsememcparseface/')\n",
    "for df in dfs:\n",
    "    print(df)"
   ]
  },
  {
   "cell_type": "markdown",
   "metadata": {},
   "source": [
    "## Dynamic Web Scraping\n",
    "\n",
    "sometimes the webpages have in browser javascript which is only run when the webpage is loaded in a browser and not otherwise so as we are scraping data from a script therefore we won't be able to see the changes the JS code makes\n",
    "\n"
   ]
  },
  {
   "cell_type": "raw",
   "metadata": {},
   "source": [
    "For eg.\n",
    "  <p>Javascript (dynamic data) test:</p>\n",
    "  <p class='jstest' id='yesnojs'>y u bad tho?</p>\n",
    "  <script>\n",
    "     document.getElementById('yesnojs').innerHTML = 'Look at you shinin!';\n",
    "  </script> "
   ]
  },
  {
   "cell_type": "code",
   "execution_count": 38,
   "metadata": {},
   "outputs": [
    {
     "name": "stdout",
     "output_type": "stream",
     "text": [
      "y u bad tho?\n"
     ]
    }
   ],
   "source": [
    "import bs4 as bs\n",
    "import urllib.request\n",
    "\n",
    "source = urllib.request.urlopen('https://pythonprogramming.net/parsememcparseface/')\n",
    "soup = bs.BeautifulSoup(source,'lxml')\n",
    "\n",
    "js_test = soup.find('p', class_='jstest')\n",
    "\n",
    "print(js_test.text)"
   ]
  },
  {
   "cell_type": "code",
   "execution_count": 52,
   "metadata": {},
   "outputs": [],
   "source": [
    "from selenium import webdriver\n",
    "from selenium.webdriver.common.by import By"
   ]
  },
  {
   "cell_type": "code",
   "execution_count": 53,
   "metadata": {},
   "outputs": [],
   "source": [
    "driver=webdriver.Chrome()\n",
    "\n",
    "driver.get('https://pythonprogramming.net/parsememcparseface/')"
   ]
  },
  {
   "cell_type": "code",
   "execution_count": 54,
   "metadata": {},
   "outputs": [],
   "source": [
    "driver.current_url\n",
    "original_window = driver.current_window_handle"
   ]
  },
  {
   "cell_type": "code",
   "execution_count": 41,
   "metadata": {},
   "outputs": [],
   "source": [
    "driver.back()"
   ]
  },
  {
   "cell_type": "code",
   "execution_count": 42,
   "metadata": {},
   "outputs": [],
   "source": [
    "driver.forward()"
   ]
  },
  {
   "cell_type": "code",
   "execution_count": 43,
   "metadata": {},
   "outputs": [],
   "source": [
    "driver.refresh()"
   ]
  },
  {
   "cell_type": "code",
   "execution_count": 44,
   "metadata": {},
   "outputs": [
    {
     "data": {
      "text/plain": [
       "'Python Programming Tutorials'"
      ]
     },
     "execution_count": 44,
     "metadata": {},
     "output_type": "execute_result"
    }
   ],
   "source": [
    "driver.title"
   ]
  },
  {
   "cell_type": "code",
   "execution_count": 45,
   "metadata": {},
   "outputs": [
    {
     "data": {
      "text/plain": [
       "'CDwindow-C36A2FB219FD108825CAB0C07E9BA067'"
      ]
     },
     "execution_count": 45,
     "metadata": {},
     "output_type": "execute_result"
    }
   ],
   "source": [
    "original_window=driver.current_window_handle\n"
   ]
  },
  {
   "cell_type": "markdown",
   "metadata": {},
   "source": [
    "WebDriver does not make the distinction between windows and tabs. If your site opens a new tab or window, Selenium will let you work with it using a window handle. Each window has a unique identifier which remains persistent in a single session. You can get the window handle of the current window by using:"
   ]
  },
  {
   "cell_type": "code",
   "execution_count": 55,
   "metadata": {},
   "outputs": [],
   "source": [
    "driver.switch_to.new_window('tab')"
   ]
  },
  {
   "cell_type": "code",
   "execution_count": 56,
   "metadata": {},
   "outputs": [],
   "source": [
    "driver.switch_to.new_window('window')"
   ]
  },
  {
   "cell_type": "code",
   "execution_count": 57,
   "metadata": {},
   "outputs": [],
   "source": [
    "driver.close()"
   ]
  },
  {
   "cell_type": "code",
   "execution_count": 58,
   "metadata": {},
   "outputs": [],
   "source": [
    "driver.switch_to.window(original_window)"
   ]
  },
  {
   "cell_type": "code",
   "execution_count": 59,
   "metadata": {},
   "outputs": [],
   "source": [
    "for window_handle in driver.window_handles:\n",
    "        if window_handle != original_window:\n",
    "            driver.switch_to.window(window_handle)\n",
    "            break"
   ]
  },
  {
   "cell_type": "code",
   "execution_count": 64,
   "metadata": {},
   "outputs": [],
   "source": [
    "from selenium.webdriver.common.by import By\n",
    "driver=webdriver.Chrome()\n",
    "driver.get('https://pythonprogramming.net/parsememcparseface/')\n",
    "driver.find_element(By.LINK_TEXT,\"Home\").click()\n",
    "# you can also use driver.find_element_by_link_text but above is new and better \n",
    "# there are various other methods like .tag_name, .id, . XPATH etc"
   ]
  },
  {
   "cell_type": "code",
   "execution_count": 65,
   "metadata": {},
   "outputs": [
    {
     "name": "stdout",
     "output_type": "stream",
     "text": [
      "Oh, hello! This is a wonderful page meant to let you practice web scraping. This page was originally created to help people work with the Beautiful Soup 4 library.\n",
      "The following table gives some general information for the following programming languages:\n",
      "I think it's clear that, on a scale of 1-10, python is:\n",
      "Javascript (dynamic data) test:\n",
      "Look at you shinin!\n",
      "Whᶐt hαppéns now¿\n",
      "sitemap\n",
      "Contact: Harrison@pythonprogramming.net.\n",
      "Programming is a superpower.\n"
     ]
    }
   ],
   "source": [
    "driver=webdriver.Chrome()\n",
    "driver.get('https://pythonprogramming.net/parsememcparseface/')\n",
    "elements = driver.find_elements(By.TAG_NAME, 'p')\n",
    "\n",
    "for e in elements:\n",
    "    print(e.text)\n",
    "\n",
    "#you can also find elements in element\n",
    "#search_form = driver.find_element(By.TAG_NAME, \"form\")\n",
    "#search_box = search_form.find_element(By.NAME, \"q\")"
   ]
  },
  {
   "cell_type": "code",
   "execution_count": 66,
   "metadata": {},
   "outputs": [
    {
     "data": {
      "text/plain": [
       "'Look at you shinin!'"
      ]
     },
     "execution_count": 66,
     "metadata": {},
     "output_type": "execute_result"
    }
   ],
   "source": [
    "driver=webdriver.Chrome()\n",
    "driver.get('https://pythonprogramming.net/parsememcparseface/')\n",
    "example=driver.find_element(By.CLASS_NAME, \"jstest\")\n",
    "example.text"
   ]
  },
  {
   "cell_type": "raw",
   "metadata": {},
   "source": [
    "<div id=\"modal\">\n",
    "  <iframe id=\"buttonframe\" name=\"myframe\"  src=\"https://seleniumhq.github.io\">\n",
    "   <button>Click here</button>\n",
    " </iframe>\n",
    "</div>"
   ]
  },
  {
   "cell_type": "code",
   "execution_count": 67,
   "metadata": {},
   "outputs": [],
   "source": [
    "driver=webdriver.Chrome()\n",
    "driver.get(\"file:///C:/Users/Bhuvan/Tinkeringbootcamp/x.html\")"
   ]
  },
  {
   "cell_type": "code",
   "execution_count": 68,
   "metadata": {},
   "outputs": [
    {
     "ename": "NoSuchElementException",
     "evalue": "Message: no such element: Unable to locate element: {\"method\":\"css selector\",\"selector\":\"[id=\"dropdownButton\"]\"}\n  (Session info: chrome=84.0.4147.89)\nStacktrace:\nBacktrace:\n\tOrdinal0 [0x005B9563+2725219]\n\tOrdinal0 [0x004B8551+1672529]\n\tOrdinal0 [0x003A0359+525145]\n\tOrdinal0 [0x00339755+104277]\n\tOrdinal0 [0x003553C0+218048]\n\tOrdinal0 [0x0034AAD0+174800]\n\tOrdinal0 [0x00353D7C+212348]\n\tOrdinal0 [0x0034A94B+174411]\n\tOrdinal0 [0x00332528+75048]\n\tOrdinal0 [0x003335A0+79264]\n\tOrdinal0 [0x00333539+79161]\n\tOrdinal0 [0x004CD607+1758727]\n\tGetHandleVerifier [0x006D6546+1050150]\n\tGetHandleVerifier [0x006D6291+1049457]\n\tGetHandleVerifier [0x006E10D7+1094071]\n\tGetHandleVerifier [0x006D6B46+1051686]\n\tOrdinal0 [0x004C5B06+1727238]\n\tOrdinal0 [0x004CEB7B+1764219]\n\tOrdinal0 [0x004CECE3+1764579]\n\tOrdinal0 [0x004E4C05+1854469]\n\tBaseThreadInitThunk [0x74A30419+25]\n\tRtlGetAppContainerNamedObjectPath [0x772C662D+237]\n\tRtlGetAppContainerNamedObjectPath [0x772C65FD+189]\n",
     "output_type": "error",
     "traceback": [
      "\u001b[1;31m---------------------------------------------------------------------------\u001b[0m",
      "\u001b[1;31mNoSuchElementException\u001b[0m                    Traceback (most recent call last)",
      "\u001b[1;32m<ipython-input-68-780b5d78b044>\u001b[0m in \u001b[0;36m<module>\u001b[1;34m\u001b[0m\n\u001b[1;32m----> 1\u001b[1;33m \u001b[0mdriver\u001b[0m\u001b[1;33m.\u001b[0m\u001b[0mfind_element\u001b[0m\u001b[1;33m(\u001b[0m\u001b[0mBy\u001b[0m\u001b[1;33m.\u001b[0m\u001b[0mID\u001b[0m\u001b[1;33m,\u001b[0m \u001b[1;34m'dropdownButton'\u001b[0m\u001b[1;33m)\u001b[0m\u001b[1;33m.\u001b[0m\u001b[0mclick\u001b[0m\u001b[1;33m(\u001b[0m\u001b[1;33m)\u001b[0m\u001b[1;33m\u001b[0m\u001b[1;33m\u001b[0m\u001b[0m\n\u001b[0m\u001b[0;32m      2\u001b[0m \u001b[1;31m#However, if there are no buttons outside of the iframe, you might instead get a no such element error.\u001b[0m\u001b[1;33m\u001b[0m\u001b[1;33m\u001b[0m\u001b[1;33m\u001b[0m\u001b[0m\n\u001b[0;32m      3\u001b[0m \u001b[1;31m#This happens because Selenium is only aware of the elements in the top level document.\u001b[0m\u001b[1;33m\u001b[0m\u001b[1;33m\u001b[0m\u001b[1;33m\u001b[0m\u001b[0m\n",
      "\u001b[1;32mc:\\users\\bhuvan\\appdata\\local\\programs\\python\\python37\\lib\\site-packages\\selenium\\webdriver\\remote\\webdriver.py\u001b[0m in \u001b[0;36mfind_element\u001b[1;34m(self, by, value)\u001b[0m\n\u001b[0;32m   1092\u001b[0m         return self.execute(Command.FIND_ELEMENT, {\n\u001b[0;32m   1093\u001b[0m             \u001b[1;34m'using'\u001b[0m\u001b[1;33m:\u001b[0m \u001b[0mby\u001b[0m\u001b[1;33m,\u001b[0m\u001b[1;33m\u001b[0m\u001b[1;33m\u001b[0m\u001b[0m\n\u001b[1;32m-> 1094\u001b[1;33m             'value': value})['value']\n\u001b[0m\u001b[0;32m   1095\u001b[0m \u001b[1;33m\u001b[0m\u001b[0m\n\u001b[0;32m   1096\u001b[0m     \u001b[1;32mdef\u001b[0m \u001b[0mfind_elements\u001b[0m\u001b[1;33m(\u001b[0m\u001b[0mself\u001b[0m\u001b[1;33m,\u001b[0m \u001b[0mby\u001b[0m\u001b[1;33m=\u001b[0m\u001b[0mBy\u001b[0m\u001b[1;33m.\u001b[0m\u001b[0mID\u001b[0m\u001b[1;33m,\u001b[0m \u001b[0mvalue\u001b[0m\u001b[1;33m=\u001b[0m\u001b[1;32mNone\u001b[0m\u001b[1;33m)\u001b[0m\u001b[1;33m:\u001b[0m\u001b[1;33m\u001b[0m\u001b[1;33m\u001b[0m\u001b[0m\n",
      "\u001b[1;32mc:\\users\\bhuvan\\appdata\\local\\programs\\python\\python37\\lib\\site-packages\\selenium\\webdriver\\remote\\webdriver.py\u001b[0m in \u001b[0;36mexecute\u001b[1;34m(self, driver_command, params)\u001b[0m\n\u001b[0;32m    345\u001b[0m         \u001b[0mresponse\u001b[0m \u001b[1;33m=\u001b[0m \u001b[0mself\u001b[0m\u001b[1;33m.\u001b[0m\u001b[0mcommand_executor\u001b[0m\u001b[1;33m.\u001b[0m\u001b[0mexecute\u001b[0m\u001b[1;33m(\u001b[0m\u001b[0mdriver_command\u001b[0m\u001b[1;33m,\u001b[0m \u001b[0mparams\u001b[0m\u001b[1;33m)\u001b[0m\u001b[1;33m\u001b[0m\u001b[1;33m\u001b[0m\u001b[0m\n\u001b[0;32m    346\u001b[0m         \u001b[1;32mif\u001b[0m \u001b[0mresponse\u001b[0m\u001b[1;33m:\u001b[0m\u001b[1;33m\u001b[0m\u001b[1;33m\u001b[0m\u001b[0m\n\u001b[1;32m--> 347\u001b[1;33m             \u001b[0mself\u001b[0m\u001b[1;33m.\u001b[0m\u001b[0merror_handler\u001b[0m\u001b[1;33m.\u001b[0m\u001b[0mcheck_response\u001b[0m\u001b[1;33m(\u001b[0m\u001b[0mresponse\u001b[0m\u001b[1;33m)\u001b[0m\u001b[1;33m\u001b[0m\u001b[1;33m\u001b[0m\u001b[0m\n\u001b[0m\u001b[0;32m    348\u001b[0m             response['value'] = self._unwrap_value(\n\u001b[0;32m    349\u001b[0m                 response.get('value', None))\n",
      "\u001b[1;32mc:\\users\\bhuvan\\appdata\\local\\programs\\python\\python37\\lib\\site-packages\\selenium\\webdriver\\remote\\errorhandler.py\u001b[0m in \u001b[0;36mcheck_response\u001b[1;34m(self, response)\u001b[0m\n\u001b[0;32m    238\u001b[0m                 \u001b[0malert_text\u001b[0m \u001b[1;33m=\u001b[0m \u001b[0mvalue\u001b[0m\u001b[1;33m[\u001b[0m\u001b[1;34m'alert'\u001b[0m\u001b[1;33m]\u001b[0m\u001b[1;33m.\u001b[0m\u001b[0mget\u001b[0m\u001b[1;33m(\u001b[0m\u001b[1;34m'text'\u001b[0m\u001b[1;33m)\u001b[0m\u001b[1;33m\u001b[0m\u001b[1;33m\u001b[0m\u001b[0m\n\u001b[0;32m    239\u001b[0m             \u001b[1;32mraise\u001b[0m \u001b[0mexception_class\u001b[0m\u001b[1;33m(\u001b[0m\u001b[0mmessage\u001b[0m\u001b[1;33m,\u001b[0m \u001b[0mscreen\u001b[0m\u001b[1;33m,\u001b[0m \u001b[0mstacktrace\u001b[0m\u001b[1;33m,\u001b[0m \u001b[0malert_text\u001b[0m\u001b[1;33m)\u001b[0m\u001b[1;33m\u001b[0m\u001b[1;33m\u001b[0m\u001b[0m\n\u001b[1;32m--> 240\u001b[1;33m         \u001b[1;32mraise\u001b[0m \u001b[0mexception_class\u001b[0m\u001b[1;33m(\u001b[0m\u001b[0mmessage\u001b[0m\u001b[1;33m,\u001b[0m \u001b[0mscreen\u001b[0m\u001b[1;33m,\u001b[0m \u001b[0mstacktrace\u001b[0m\u001b[1;33m)\u001b[0m\u001b[1;33m\u001b[0m\u001b[1;33m\u001b[0m\u001b[0m\n\u001b[0m\u001b[0;32m    241\u001b[0m \u001b[1;33m\u001b[0m\u001b[0m\n\u001b[0;32m    242\u001b[0m     \u001b[1;32mdef\u001b[0m \u001b[0m_value_or_default\u001b[0m\u001b[1;33m(\u001b[0m\u001b[0mself\u001b[0m\u001b[1;33m,\u001b[0m \u001b[0mobj\u001b[0m\u001b[1;33m,\u001b[0m \u001b[0mkey\u001b[0m\u001b[1;33m,\u001b[0m \u001b[0mdefault\u001b[0m\u001b[1;33m)\u001b[0m\u001b[1;33m:\u001b[0m\u001b[1;33m\u001b[0m\u001b[1;33m\u001b[0m\u001b[0m\n",
      "\u001b[1;31mNoSuchElementException\u001b[0m: Message: no such element: Unable to locate element: {\"method\":\"css selector\",\"selector\":\"[id=\"dropdownButton\"]\"}\n  (Session info: chrome=84.0.4147.89)\nStacktrace:\nBacktrace:\n\tOrdinal0 [0x005B9563+2725219]\n\tOrdinal0 [0x004B8551+1672529]\n\tOrdinal0 [0x003A0359+525145]\n\tOrdinal0 [0x00339755+104277]\n\tOrdinal0 [0x003553C0+218048]\n\tOrdinal0 [0x0034AAD0+174800]\n\tOrdinal0 [0x00353D7C+212348]\n\tOrdinal0 [0x0034A94B+174411]\n\tOrdinal0 [0x00332528+75048]\n\tOrdinal0 [0x003335A0+79264]\n\tOrdinal0 [0x00333539+79161]\n\tOrdinal0 [0x004CD607+1758727]\n\tGetHandleVerifier [0x006D6546+1050150]\n\tGetHandleVerifier [0x006D6291+1049457]\n\tGetHandleVerifier [0x006E10D7+1094071]\n\tGetHandleVerifier [0x006D6B46+1051686]\n\tOrdinal0 [0x004C5B06+1727238]\n\tOrdinal0 [0x004CEB7B+1764219]\n\tOrdinal0 [0x004CECE3+1764579]\n\tOrdinal0 [0x004E4C05+1854469]\n\tBaseThreadInitThunk [0x74A30419+25]\n\tRtlGetAppContainerNamedObjectPath [0x772C662D+237]\n\tRtlGetAppContainerNamedObjectPath [0x772C65FD+189]\n"
     ]
    }
   ],
   "source": [
    "driver.find_element(By.ID, 'dropdownButton').click()\n",
    "#However, if there are no buttons outside of the iframe, you might instead get a no such element error. \n",
    "#This happens because Selenium is only aware of the elements in the top level document. "
   ]
  },
  {
   "cell_type": "code",
   "execution_count": 69,
   "metadata": {},
   "outputs": [],
   "source": [
    "# Store iframe web element\n",
    "iframe = driver.find_element(By.CSS_SELECTOR, \"#modal > iframe\")\n",
    "\n",
    "# switch to selected iframe\n",
    "driver.switch_to.frame(iframe)"
   ]
  },
  {
   "cell_type": "code",
   "execution_count": 70,
   "metadata": {},
   "outputs": [],
   "source": [
    "# Now click on button\n",
    "driver.find_element(By.ID, 'dropdownButton').click()"
   ]
  },
  {
   "cell_type": "code",
   "execution_count": 71,
   "metadata": {},
   "outputs": [],
   "source": [
    "driver.switch_to.default_content()"
   ]
  },
  {
   "cell_type": "code",
   "execution_count": 72,
   "metadata": {},
   "outputs": [],
   "source": [
    "# Switch frame by id\n",
    "driver.switch_to.frame('buttonframe')\n",
    "\n",
    "# Now, Click on the button\n",
    "driver.find_element(By.ID, 'dropdownButton').click()"
   ]
  },
  {
   "cell_type": "code",
   "execution_count": 76,
   "metadata": {},
   "outputs": [],
   "source": [
    "driver.switch_to.default_content()"
   ]
  },
  {
   "cell_type": "code",
   "execution_count": 74,
   "metadata": {},
   "outputs": [],
   "source": [
    "# Switch to the second frame\n",
    "driver.switch_to.frame(0)"
   ]
  },
  {
   "cell_type": "code",
   "execution_count": 75,
   "metadata": {},
   "outputs": [],
   "source": [
    "# Now click on button\n",
    "driver.find_element(By.ID, 'dropdownButton').click()"
   ]
  },
  {
   "cell_type": "code",
   "execution_count": 77,
   "metadata": {},
   "outputs": [
    {
     "name": "stdout",
     "output_type": "stream",
     "text": [
      "1050\n",
      "880\n"
     ]
    }
   ],
   "source": [
    "width = driver.get_window_size().get(\"width\")\n",
    "height = driver.get_window_size().get(\"height\")\n",
    "print(width)\n",
    "print(height)"
   ]
  },
  {
   "cell_type": "code",
   "execution_count": 79,
   "metadata": {},
   "outputs": [],
   "source": [
    "driver.set_window_size(1024, 768)"
   ]
  },
  {
   "cell_type": "code",
   "execution_count": 80,
   "metadata": {},
   "outputs": [
    {
     "name": "stdout",
     "output_type": "stream",
     "text": [
      "611 253\n"
     ]
    }
   ],
   "source": [
    "x = driver.get_window_position().get('x')\n",
    "y = driver.get_window_position().get('y')\n",
    "print(x,y) #measured from top left corner"
   ]
  },
  {
   "cell_type": "code",
   "execution_count": 81,
   "metadata": {},
   "outputs": [
    {
     "data": {
      "text/plain": [
       "{'height': 768, 'width': 1024, 'x': 0, 'y': 0}"
      ]
     },
     "execution_count": 81,
     "metadata": {},
     "output_type": "execute_result"
    }
   ],
   "source": [
    "driver.set_window_position(0, 0)"
   ]
  },
  {
   "cell_type": "code",
   "execution_count": 82,
   "metadata": {},
   "outputs": [],
   "source": [
    "driver.maximize_window()"
   ]
  },
  {
   "cell_type": "code",
   "execution_count": 83,
   "metadata": {},
   "outputs": [],
   "source": [
    "driver.minimize_window()"
   ]
  },
  {
   "cell_type": "code",
   "execution_count": 84,
   "metadata": {},
   "outputs": [],
   "source": [
    "driver.fullscreen_window()"
   ]
  },
  {
   "cell_type": "code",
   "execution_count": 86,
   "metadata": {},
   "outputs": [
    {
     "name": "stdout",
     "output_type": "stream",
     "text": [
      "True\n",
      "True\n"
     ]
    },
    {
     "ename": "AssertionError",
     "evalue": "",
     "output_type": "error",
     "traceback": [
      "\u001b[1;31m---------------------------------------------------------------------------\u001b[0m",
      "\u001b[1;31mAssertionError\u001b[0m                            Traceback (most recent call last)",
      "\u001b[1;32m<ipython-input-86-dbcfe3e97a93>\u001b[0m in \u001b[0;36m<module>\u001b[1;34m\u001b[0m\n\u001b[0;32m      4\u001b[0m \u001b[0mprint\u001b[0m\u001b[1;33m(\u001b[0m\u001b[0mel\u001b[0m\u001b[1;33m.\u001b[0m\u001b[0mis_displayed\u001b[0m\u001b[1;33m(\u001b[0m\u001b[1;33m)\u001b[0m\u001b[1;33m)\u001b[0m\u001b[1;33m\u001b[0m\u001b[1;33m\u001b[0m\u001b[0m\n\u001b[0;32m      5\u001b[0m \u001b[0mprint\u001b[0m\u001b[1;33m(\u001b[0m\u001b[0mel\u001b[0m\u001b[1;33m.\u001b[0m\u001b[0mis_enabled\u001b[0m\u001b[1;33m(\u001b[0m\u001b[1;33m)\u001b[0m\u001b[1;33m)\u001b[0m\u001b[1;33m\u001b[0m\u001b[1;33m\u001b[0m\u001b[0m\n\u001b[1;32m----> 6\u001b[1;33m \u001b[1;32massert\u001b[0m \u001b[0mel\u001b[0m\u001b[1;33m.\u001b[0m\u001b[0mtext\u001b[0m \u001b[1;33m==\u001b[0m \u001b[1;34m\"Recommedfgdfnded\"\u001b[0m\u001b[1;33m\u001b[0m\u001b[1;33m\u001b[0m\u001b[0m\n\u001b[0m\u001b[0;32m      7\u001b[0m \u001b[1;31m#The assert keyword lets you test if a condition in your code\u001b[0m\u001b[1;33m\u001b[0m\u001b[1;33m\u001b[0m\u001b[1;33m\u001b[0m\u001b[0m\n\u001b[0;32m      8\u001b[0m \u001b[1;31m#returns True, if not, the program will raise an AssertionError.\u001b[0m\u001b[1;33m\u001b[0m\u001b[1;33m\u001b[0m\u001b[1;33m\u001b[0m\u001b[0m\n",
      "\u001b[1;31mAssertionError\u001b[0m: "
     ]
    }
   ],
   "source": [
    "driver=webdriver.Chrome()\n",
    "driver.get(\"https://www.youtube.com/\")\n",
    "el = driver.find_element(By.TAG_NAME, \"span[id=title]\")\n",
    "print(el.is_displayed())\n",
    "print(el.is_enabled())\n",
    "assert el.text == \"Recommedfgdfnded\"\n",
    "#The assert keyword lets you test if a condition in your code \n",
    "#returns True, if not, the program will raise an AssertionError."
   ]
  },
  {
   "cell_type": "markdown",
   "metadata": {},
   "source": [
    "The issue here is that the default page load strategy used in WebDriver \n",
    "listens for the document.readyState to change to \"complete\" before \n",
    "returning from the call to navigate. Because the p element is added after \n",
    "the document has completed loading, this WebDriver script might be \n",
    "intermittent. It “might” be intermittent because no guarantees can be made\n",
    "about elements or events that trigger asynchronously without explicitly \n",
    "waiting—or blocking—on those events."
   ]
  },
  {
   "cell_type": "code",
   "execution_count": null,
   "metadata": {},
   "outputs": [],
   "source": [
    "\n",
    "driver=webdriver.Chrome()\n",
    "driver.get(\"https://www.youtube.com/\")\n",
    "driver.implicitly_wait(10) #implicit wait applies to every command like finding a tag etc and waits for maximum 10 seconds after that error\n",
    "el = driver.find_element(By.TAG_NAME, \"span[id=title]\")\n",
    "print(el.is_displayed())\n",
    "print(el.is_enabled())\n",
    "assert el.text == \"Recommended\"\n"
   ]
  },
  {
   "cell_type": "markdown",
   "metadata": {},
   "source": [
    "### Explicit wait\n",
    "<b>from selenium.webdriver.support.ui import WebDriverWait<br />\n",
    "WebDriverWait(driver, timeout=3).until(some_condition)</b><br />\n",
    "The conditions available in the different language bindings vary, but this is a non-exhaustive list of a few:<br />\n",
    "\n",
    "alert is present<br />\n",
    "element exists<br />\n",
    "element is visible<br />\n",
    "title contains<br />\n",
    "title is<br />\n",
    "element staleness<br />\n",
    "visible text <br />\n",
    "and many more<br />\n",
    "\n",
    "https://www.selenium.dev/selenium/docs/api/py/webdriver_support/selenium.webdriver.support.expected_conditions.html?highlight=expected\n"
   ]
  },
  {
   "cell_type": "code",
   "execution_count": 87,
   "metadata": {},
   "outputs": [],
   "source": [
    "from selenium.webdriver.support.ui import WebDriverWait\n",
    "from selenium.webdriver.support import expected_conditions as EC\n",
    "import time\n",
    "driver=webdriver.Chrome()\n",
    "driver.get(\"https://www.expedia.co.in/Flights-Search?flight-type=on&mode=search&trip=roundtrip&leg1=from%3AChandigarh+%28IXC-Chandigarh%29%2Cto%3AMumbai+%28BOM-Chhatrapati+Shivaji+Intl.%29%2Cdeparture%3A31%2F07%2F2020TANYT&options=cabinclass%3Aeconomy&leg2=from%3AMumbai+%28BOM-Chhatrapati+Shivaji+Intl.%29%2Cto%3AChandigarh+%28IXC-Chandigarh%29%2Cdeparture%3A01%2F08%2F2020TANYT&passengers=children%3A0%2Cadults%3A1%2Cseniors%3A0%2Cinfantinlap%3AY&fromDate=31%2F07%2F2020&toDate=01%2F08%2F2020&d1=2020-07-31&d2=2020-08-01\")\n",
    "wait=WebDriverWait(driver,10) #10 here is the max time in seconds\n",
    "time.sleep(2)\n",
    "element=wait.until(EC.element_to_be_clickable((By.XPATH,'//*[@id=\"stopFilter_stops-0\"]')))\n",
    "element.click()\n",
    "#is_selected can be used here to know if checkbox is already selected or not  "
   ]
  },
  {
   "cell_type": "markdown",
   "metadata": {},
   "source": [
    "### CAUTION! -> NEVER EVER MIX THE TWO WAITS BECAUSE IT WILL GIVE AMBIGUOUS RESULTS THEN"
   ]
  },
  {
   "cell_type": "markdown",
   "metadata": {},
   "source": [
    "# Input Boxes"
   ]
  },
  {
   "cell_type": "code",
   "execution_count": 88,
   "metadata": {},
   "outputs": [],
   "source": [
    "import time\n",
    "driver=webdriver.Chrome()\n",
    "driver.get(\"https://www.google.com/\")\n",
    "searchbox=driver.find_element(By.XPATH, '//*[@id=\"tsf\"]/div[2]/div[1]/div[1]/div/div[2]/input')\n",
    "searchbox.send_keys('tinkerers lab')\n",
    "\n",
    "driver.find_element(By.XPATH, '//*[@id=\"tsf\"]/div[2]/div[1]/div[3]/center/input[1]').click()"
   ]
  },
  {
   "cell_type": "code",
   "execution_count": 89,
   "metadata": {},
   "outputs": [
    {
     "ename": "ElementClickInterceptedException",
     "evalue": "Message: element click intercepted: Element <input class=\"gNO89b\" value=\"Google Search\" aria-label=\"Google Search\" name=\"btnK\" type=\"submit\" data-ved=\"0ahUKEwjVw_DOgtTqAhWN6XMBHSy7ByYQ4dUDCAs\"> is not clickable at point (440, 368). Other element would receive the click: <b>...</b>\n  (Session info: chrome=84.0.4147.89)\nStacktrace:\nBacktrace:\n\tOrdinal0 [0x005B9563+2725219]\n\tOrdinal0 [0x004B8551+1672529]\n\tOrdinal0 [0x003A0359+525145]\n\tOrdinal0 [0x0033CADE+117470]\n\tOrdinal0 [0x0033BD1F+113951]\n\tOrdinal0 [0x0033AA27+109095]\n\tOrdinal0 [0x0033A232+107058]\n\tOrdinal0 [0x003343B1+82865]\n\tOrdinal0 [0x0034AA9D+174749]\n\tOrdinal0 [0x003341F6+82422]\n\tOrdinal0 [0x0034ACE1+175329]\n\tOrdinal0 [0x00353D7C+212348]\n\tOrdinal0 [0x0034A94B+174411]\n\tOrdinal0 [0x00332528+75048]\n\tOrdinal0 [0x003335A0+79264]\n\tOrdinal0 [0x00333539+79161]\n\tOrdinal0 [0x004CD607+1758727]\n\tGetHandleVerifier [0x006D6546+1050150]\n\tGetHandleVerifier [0x006D6291+1049457]\n\tGetHandleVerifier [0x006E10D7+1094071]\n\tGetHandleVerifier [0x006D6B46+1051686]\n\tOrdinal0 [0x004C5B06+1727238]\n\tOrdinal0 [0x004CEB7B+1764219]\n\tOrdinal0 [0x004CECE3+1764579]\n\tOrdinal0 [0x004E4C05+1854469]\n\tBaseThreadInitThunk [0x74A30419+25]\n\tRtlGetAppContainerNamedObjectPath [0x772C662D+237]\n\tRtlGetAppContainerNamedObjectPath [0x772C65FD+189]\n",
     "output_type": "error",
     "traceback": [
      "\u001b[1;31m---------------------------------------------------------------------------\u001b[0m",
      "\u001b[1;31mElementClickInterceptedException\u001b[0m          Traceback (most recent call last)",
      "\u001b[1;32m<ipython-input-89-a222b12e1713>\u001b[0m in \u001b[0;36m<module>\u001b[1;34m\u001b[0m\n\u001b[0;32m      5\u001b[0m \u001b[0msearchbox\u001b[0m\u001b[1;33m.\u001b[0m\u001b[0msend_keys\u001b[0m\u001b[1;33m(\u001b[0m\u001b[1;34m'tinkerers lab'\u001b[0m\u001b[1;33m)\u001b[0m\u001b[1;33m\u001b[0m\u001b[1;33m\u001b[0m\u001b[0m\n\u001b[0;32m      6\u001b[0m \u001b[0mtime\u001b[0m\u001b[1;33m.\u001b[0m\u001b[0msleep\u001b[0m\u001b[1;33m(\u001b[0m\u001b[1;36m2\u001b[0m\u001b[1;33m)\u001b[0m\u001b[1;33m\u001b[0m\u001b[1;33m\u001b[0m\u001b[0m\n\u001b[1;32m----> 7\u001b[1;33m \u001b[0mdriver\u001b[0m\u001b[1;33m.\u001b[0m\u001b[0mfind_element\u001b[0m\u001b[1;33m(\u001b[0m\u001b[0mBy\u001b[0m\u001b[1;33m.\u001b[0m\u001b[0mXPATH\u001b[0m\u001b[1;33m,\u001b[0m \u001b[1;34m'//*[@id=\"tsf\"]/div[2]/div[1]/div[3]/center/input[1]'\u001b[0m\u001b[1;33m)\u001b[0m\u001b[1;33m.\u001b[0m\u001b[0mclick\u001b[0m\u001b[1;33m(\u001b[0m\u001b[1;33m)\u001b[0m\u001b[1;33m\u001b[0m\u001b[1;33m\u001b[0m\u001b[0m\n\u001b[0m",
      "\u001b[1;32mc:\\users\\bhuvan\\appdata\\local\\programs\\python\\python37\\lib\\site-packages\\selenium\\webdriver\\remote\\webelement.py\u001b[0m in \u001b[0;36mclick\u001b[1;34m(self)\u001b[0m\n\u001b[0;32m     90\u001b[0m     \u001b[1;32mdef\u001b[0m \u001b[0mclick\u001b[0m\u001b[1;33m(\u001b[0m\u001b[0mself\u001b[0m\u001b[1;33m)\u001b[0m\u001b[1;33m:\u001b[0m\u001b[1;33m\u001b[0m\u001b[1;33m\u001b[0m\u001b[0m\n\u001b[0;32m     91\u001b[0m         \u001b[1;34m\"\"\"Clicks the element.\"\"\"\u001b[0m\u001b[1;33m\u001b[0m\u001b[1;33m\u001b[0m\u001b[0m\n\u001b[1;32m---> 92\u001b[1;33m         \u001b[0mself\u001b[0m\u001b[1;33m.\u001b[0m\u001b[0m_execute\u001b[0m\u001b[1;33m(\u001b[0m\u001b[0mCommand\u001b[0m\u001b[1;33m.\u001b[0m\u001b[0mCLICK_ELEMENT\u001b[0m\u001b[1;33m)\u001b[0m\u001b[1;33m\u001b[0m\u001b[1;33m\u001b[0m\u001b[0m\n\u001b[0m\u001b[0;32m     93\u001b[0m \u001b[1;33m\u001b[0m\u001b[0m\n\u001b[0;32m     94\u001b[0m     \u001b[1;32mdef\u001b[0m \u001b[0msubmit\u001b[0m\u001b[1;33m(\u001b[0m\u001b[0mself\u001b[0m\u001b[1;33m)\u001b[0m\u001b[1;33m:\u001b[0m\u001b[1;33m\u001b[0m\u001b[1;33m\u001b[0m\u001b[0m\n",
      "\u001b[1;32mc:\\users\\bhuvan\\appdata\\local\\programs\\python\\python37\\lib\\site-packages\\selenium\\webdriver\\remote\\webelement.py\u001b[0m in \u001b[0;36m_execute\u001b[1;34m(self, command, params)\u001b[0m\n\u001b[0;32m    698\u001b[0m             \u001b[0mparams\u001b[0m \u001b[1;33m=\u001b[0m \u001b[1;33m{\u001b[0m\u001b[1;33m}\u001b[0m\u001b[1;33m\u001b[0m\u001b[1;33m\u001b[0m\u001b[0m\n\u001b[0;32m    699\u001b[0m         \u001b[0mparams\u001b[0m\u001b[1;33m[\u001b[0m\u001b[1;34m'id'\u001b[0m\u001b[1;33m]\u001b[0m \u001b[1;33m=\u001b[0m \u001b[0mself\u001b[0m\u001b[1;33m.\u001b[0m\u001b[0m_id\u001b[0m\u001b[1;33m\u001b[0m\u001b[1;33m\u001b[0m\u001b[0m\n\u001b[1;32m--> 700\u001b[1;33m         \u001b[1;32mreturn\u001b[0m \u001b[0mself\u001b[0m\u001b[1;33m.\u001b[0m\u001b[0m_parent\u001b[0m\u001b[1;33m.\u001b[0m\u001b[0mexecute\u001b[0m\u001b[1;33m(\u001b[0m\u001b[0mcommand\u001b[0m\u001b[1;33m,\u001b[0m \u001b[0mparams\u001b[0m\u001b[1;33m)\u001b[0m\u001b[1;33m\u001b[0m\u001b[1;33m\u001b[0m\u001b[0m\n\u001b[0m\u001b[0;32m    701\u001b[0m \u001b[1;33m\u001b[0m\u001b[0m\n\u001b[0;32m    702\u001b[0m     \u001b[1;32mdef\u001b[0m \u001b[0mfind_element\u001b[0m\u001b[1;33m(\u001b[0m\u001b[0mself\u001b[0m\u001b[1;33m,\u001b[0m \u001b[0mby\u001b[0m\u001b[1;33m=\u001b[0m\u001b[0mBy\u001b[0m\u001b[1;33m.\u001b[0m\u001b[0mID\u001b[0m\u001b[1;33m,\u001b[0m \u001b[0mvalue\u001b[0m\u001b[1;33m=\u001b[0m\u001b[1;32mNone\u001b[0m\u001b[1;33m)\u001b[0m\u001b[1;33m:\u001b[0m\u001b[1;33m\u001b[0m\u001b[1;33m\u001b[0m\u001b[0m\n",
      "\u001b[1;32mc:\\users\\bhuvan\\appdata\\local\\programs\\python\\python37\\lib\\site-packages\\selenium\\webdriver\\remote\\webdriver.py\u001b[0m in \u001b[0;36mexecute\u001b[1;34m(self, driver_command, params)\u001b[0m\n\u001b[0;32m    345\u001b[0m         \u001b[0mresponse\u001b[0m \u001b[1;33m=\u001b[0m \u001b[0mself\u001b[0m\u001b[1;33m.\u001b[0m\u001b[0mcommand_executor\u001b[0m\u001b[1;33m.\u001b[0m\u001b[0mexecute\u001b[0m\u001b[1;33m(\u001b[0m\u001b[0mdriver_command\u001b[0m\u001b[1;33m,\u001b[0m \u001b[0mparams\u001b[0m\u001b[1;33m)\u001b[0m\u001b[1;33m\u001b[0m\u001b[1;33m\u001b[0m\u001b[0m\n\u001b[0;32m    346\u001b[0m         \u001b[1;32mif\u001b[0m \u001b[0mresponse\u001b[0m\u001b[1;33m:\u001b[0m\u001b[1;33m\u001b[0m\u001b[1;33m\u001b[0m\u001b[0m\n\u001b[1;32m--> 347\u001b[1;33m             \u001b[0mself\u001b[0m\u001b[1;33m.\u001b[0m\u001b[0merror_handler\u001b[0m\u001b[1;33m.\u001b[0m\u001b[0mcheck_response\u001b[0m\u001b[1;33m(\u001b[0m\u001b[0mresponse\u001b[0m\u001b[1;33m)\u001b[0m\u001b[1;33m\u001b[0m\u001b[1;33m\u001b[0m\u001b[0m\n\u001b[0m\u001b[0;32m    348\u001b[0m             response['value'] = self._unwrap_value(\n\u001b[0;32m    349\u001b[0m                 response.get('value', None))\n",
      "\u001b[1;32mc:\\users\\bhuvan\\appdata\\local\\programs\\python\\python37\\lib\\site-packages\\selenium\\webdriver\\remote\\errorhandler.py\u001b[0m in \u001b[0;36mcheck_response\u001b[1;34m(self, response)\u001b[0m\n\u001b[0;32m    238\u001b[0m                 \u001b[0malert_text\u001b[0m \u001b[1;33m=\u001b[0m \u001b[0mvalue\u001b[0m\u001b[1;33m[\u001b[0m\u001b[1;34m'alert'\u001b[0m\u001b[1;33m]\u001b[0m\u001b[1;33m.\u001b[0m\u001b[0mget\u001b[0m\u001b[1;33m(\u001b[0m\u001b[1;34m'text'\u001b[0m\u001b[1;33m)\u001b[0m\u001b[1;33m\u001b[0m\u001b[1;33m\u001b[0m\u001b[0m\n\u001b[0;32m    239\u001b[0m             \u001b[1;32mraise\u001b[0m \u001b[0mexception_class\u001b[0m\u001b[1;33m(\u001b[0m\u001b[0mmessage\u001b[0m\u001b[1;33m,\u001b[0m \u001b[0mscreen\u001b[0m\u001b[1;33m,\u001b[0m \u001b[0mstacktrace\u001b[0m\u001b[1;33m,\u001b[0m \u001b[0malert_text\u001b[0m\u001b[1;33m)\u001b[0m\u001b[1;33m\u001b[0m\u001b[1;33m\u001b[0m\u001b[0m\n\u001b[1;32m--> 240\u001b[1;33m         \u001b[1;32mraise\u001b[0m \u001b[0mexception_class\u001b[0m\u001b[1;33m(\u001b[0m\u001b[0mmessage\u001b[0m\u001b[1;33m,\u001b[0m \u001b[0mscreen\u001b[0m\u001b[1;33m,\u001b[0m \u001b[0mstacktrace\u001b[0m\u001b[1;33m)\u001b[0m\u001b[1;33m\u001b[0m\u001b[1;33m\u001b[0m\u001b[0m\n\u001b[0m\u001b[0;32m    241\u001b[0m \u001b[1;33m\u001b[0m\u001b[0m\n\u001b[0;32m    242\u001b[0m     \u001b[1;32mdef\u001b[0m \u001b[0m_value_or_default\u001b[0m\u001b[1;33m(\u001b[0m\u001b[0mself\u001b[0m\u001b[1;33m,\u001b[0m \u001b[0mobj\u001b[0m\u001b[1;33m,\u001b[0m \u001b[0mkey\u001b[0m\u001b[1;33m,\u001b[0m \u001b[0mdefault\u001b[0m\u001b[1;33m)\u001b[0m\u001b[1;33m:\u001b[0m\u001b[1;33m\u001b[0m\u001b[1;33m\u001b[0m\u001b[0m\n",
      "\u001b[1;31mElementClickInterceptedException\u001b[0m: Message: element click intercepted: Element <input class=\"gNO89b\" value=\"Google Search\" aria-label=\"Google Search\" name=\"btnK\" type=\"submit\" data-ved=\"0ahUKEwjVw_DOgtTqAhWN6XMBHSy7ByYQ4dUDCAs\"> is not clickable at point (440, 368). Other element would receive the click: <b>...</b>\n  (Session info: chrome=84.0.4147.89)\nStacktrace:\nBacktrace:\n\tOrdinal0 [0x005B9563+2725219]\n\tOrdinal0 [0x004B8551+1672529]\n\tOrdinal0 [0x003A0359+525145]\n\tOrdinal0 [0x0033CADE+117470]\n\tOrdinal0 [0x0033BD1F+113951]\n\tOrdinal0 [0x0033AA27+109095]\n\tOrdinal0 [0x0033A232+107058]\n\tOrdinal0 [0x003343B1+82865]\n\tOrdinal0 [0x0034AA9D+174749]\n\tOrdinal0 [0x003341F6+82422]\n\tOrdinal0 [0x0034ACE1+175329]\n\tOrdinal0 [0x00353D7C+212348]\n\tOrdinal0 [0x0034A94B+174411]\n\tOrdinal0 [0x00332528+75048]\n\tOrdinal0 [0x003335A0+79264]\n\tOrdinal0 [0x00333539+79161]\n\tOrdinal0 [0x004CD607+1758727]\n\tGetHandleVerifier [0x006D6546+1050150]\n\tGetHandleVerifier [0x006D6291+1049457]\n\tGetHandleVerifier [0x006E10D7+1094071]\n\tGetHandleVerifier [0x006D6B46+1051686]\n\tOrdinal0 [0x004C5B06+1727238]\n\tOrdinal0 [0x004CEB7B+1764219]\n\tOrdinal0 [0x004CECE3+1764579]\n\tOrdinal0 [0x004E4C05+1854469]\n\tBaseThreadInitThunk [0x74A30419+25]\n\tRtlGetAppContainerNamedObjectPath [0x772C662D+237]\n\tRtlGetAppContainerNamedObjectPath [0x772C65FD+189]\n"
     ]
    }
   ],
   "source": [
    "import time\n",
    "driver=webdriver.Chrome()\n",
    "driver.get(\"https://www.google.com/\")\n",
    "searchbox=driver.find_element(By.XPATH, '//*[@id=\"tsf\"]/div[2]/div[1]/div[1]/div/div[2]/input')\n",
    "searchbox.send_keys('tinkerers lab')\n",
    "time.sleep(2)\n",
    "driver.find_element(By.XPATH, '//*[@id=\"tsf\"]/div[2]/div[1]/div[3]/center/input[1]').click()"
   ]
  },
  {
   "cell_type": "code",
   "execution_count": 90,
   "metadata": {},
   "outputs": [],
   "source": [
    "from selenium.webdriver.common.keys import Keys\n",
    "driver=webdriver.Chrome()\n",
    "driver.get(\"https://www.google.com/\")\n",
    "searchbox=driver.find_element(By.XPATH, '//*[@id=\"tsf\"]/div[2]/div[1]/div[1]/div/div[2]/input')\n",
    "searchbox.send_keys('tinkerers lab')\n",
    "time.sleep(2)\n",
    "searchbox.send_keys(Keys.ENTER)"
   ]
  },
  {
   "cell_type": "code",
   "execution_count": 91,
   "metadata": {},
   "outputs": [],
   "source": [
    "from selenium.webdriver.common.keys import Keys\n",
    "driver=webdriver.Chrome()\n",
    "driver.get(\"https://www.google.com/search?q=youtube&rlz=1C1PRFI_enIN834IN834&oq=youtube&aqs=chrome..69i57.2739j0j7&sourceid=chrome&ie=UTF-8\")\n",
    "#searchbox=driver.find_element(By.XPATH, '//*[@id=\"tsf\"]/div[2]/div[1]/div[1]/div/div[2]/input')\n",
    "action = webdriver.ActionChains(driver)\n",
    "action.key_down(Keys.CONTROL).send_keys(\"a\").perform()"
   ]
  },
  {
   "cell_type": "markdown",
   "metadata": {},
   "source": [
    "Actionchains help in creating a multiple key combination like ctrl+A etc"
   ]
  },
  {
   "cell_type": "code",
   "execution_count": 92,
   "metadata": {},
   "outputs": [],
   "source": [
    "from selenium.webdriver.common.keys import Keys\n",
    "import time\n",
    "driver=webdriver.Chrome()\n",
    "driver.get(\"https://www.google.com/\")\n",
    "searchbox=driver.find_element(By.XPATH, '//*[@id=\"tsf\"]/div[2]/div[1]/div[1]/div/div[2]/input')\n",
    "action = webdriver.ActionChains(driver)\n",
    "action.key_down(Keys.SHIFT).send_keys_to_element(searchbox, \"qwerty\").key_up(Keys.SHIFT).send_keys(\"qwerty\").perform()\n",
    "time.sleep(2)\n",
    "searchbox.clear()"
   ]
  },
  {
   "cell_type": "code",
   "execution_count": 93,
   "metadata": {},
   "outputs": [
    {
     "name": "stdout",
     "output_type": "stream",
     "text": [
      "Hello! I am an alert box!\n"
     ]
    }
   ],
   "source": [
    "driver=webdriver.Chrome()\n",
    "import time\n",
    "driver.get(\"file:///C:/Users/Bhuvan/Tinkeringbootcamp/z.html\")\n",
    "btn=driver.find_element(By.TAG_NAME, 'button').click()\n",
    "alert = driver.switch_to.alert\n",
    "print(alert.text)\n",
    "time.sleep(2)\n",
    "alert.accept() # or you can use .dismiss\n",
    "#sometimes there are text or check boxes so as you have switched to the alert box you can send text tick the boxes etc "
   ]
  },
  {
   "cell_type": "code",
   "execution_count": 94,
   "metadata": {},
   "outputs": [],
   "source": [
    "from selenium.webdriver.common.keys import Keys\n",
    "from selenium.webdriver.support.ui import Select\n",
    "import time\n",
    "driver=webdriver.Chrome()\n",
    "driver.get(\"file:///C:/Users/Bhuvan/Tinkeringbootcamp/t.html\")\n",
    "dropdownx=driver.find_element(By.ID, 'cars')\n",
    "drp=Select(dropdownx)\n",
    "drp.select_by_index(1)"
   ]
  },
  {
   "cell_type": "code",
   "execution_count": 95,
   "metadata": {},
   "outputs": [],
   "source": [
    "drp.select_by_visible_text('Mercedes')"
   ]
  },
  {
   "cell_type": "code",
   "execution_count": 96,
   "metadata": {},
   "outputs": [],
   "source": [
    "drp.select_by_value(\"audi\")"
   ]
  },
  {
   "cell_type": "code",
   "execution_count": 97,
   "metadata": {},
   "outputs": [
    {
     "name": "stdout",
     "output_type": "stream",
     "text": [
      "Volvo\n",
      "Saab\n",
      "Mercedes\n",
      "Audi\n"
     ]
    }
   ],
   "source": [
    "drp.options\n",
    "for option in drp.options:\n",
    "    print(option.text)"
   ]
  },
  {
   "cell_type": "markdown",
   "metadata": {},
   "source": [
    "While finding links you can also do By.PARTIAL_LINK_TEXT"
   ]
  },
  {
   "cell_type": "markdown",
   "metadata": {},
   "source": [
    "## Scrolling"
   ]
  },
  {
   "cell_type": "code",
   "execution_count": 98,
   "metadata": {},
   "outputs": [],
   "source": [
    "\n",
    "driver=webdriver.Chrome()\n",
    "driver.get(\"https://www.youtube.com\")\n",
    "driver.execute_script(\"window.scrollBy(0,1000)\") #scrolling by pixel"
   ]
  },
  {
   "cell_type": "code",
   "execution_count": null,
   "metadata": {},
   "outputs": [],
   "source": [
    "from selenium.webdriver import ActionChains\n",
    "driver=webdriver.Chrome()\n",
    "driver.get('https://www.google.com/search?sxsrf=ALeKk01UedHqZQjNxreoCNPLsTGZQPqHCQ%3A1594568184598&source=hp&ei=-C0LX4XEIdbJrQH0w7KoDA&q=youtube&oq=youtube&gs_lcp=CgZwc3ktYWIQAzIECCMQJzIECCMQJzIECAAQQzIICAAQsQMQgwEyBQgAELEDMggIABCxAxCDATIICAAQsQMQgwEyCAgAELEDEIMBMgUIABCxAzIICAAQsQMQgwE6BwgAELEDEEM6AggAOgQIABAKOgUIABCRAjoHCCMQ6gIQJ1BZWMIaYIocaAFwAHgAgAHBAYgBqgySAQQwLjExmAEAoAEBqgEHZ3dzLXdperABCg&sclient=psy-ab&ved=0ahUKEwiFoNexhcjqAhXWZCsKHfShDMUQ4dUDCAc&uact=5')\n",
    "ele=driver.find_element(By.ID,'Wprf1b')  #chandigarh,punjab\n",
    "driver.execute_script(\"arguments[0].scrollIntoView();\",ele)\n",
    "actions=ActionChains(driver)\n",
    "actions.context_click(ele).perform()\n",
    "\n",
    "#you can also do actions.double_click and move_to_element (for mouse hovering)\n"
   ]
  },
  {
   "cell_type": "code",
   "execution_count": null,
   "metadata": {},
   "outputs": [],
   "source": []
  }
 ],
 "metadata": {
  "kernelspec": {
   "display_name": "Python 3",
   "language": "python",
   "name": "python3"
  },
  "language_info": {
   "codemirror_mode": {
    "name": "ipython",
    "version": 3
   },
   "file_extension": ".py",
   "mimetype": "text/x-python",
   "name": "python",
   "nbconvert_exporter": "python",
   "pygments_lexer": "ipython3",
   "version": "3.7.7"
  }
 },
 "nbformat": 4,
 "nbformat_minor": 4
}
